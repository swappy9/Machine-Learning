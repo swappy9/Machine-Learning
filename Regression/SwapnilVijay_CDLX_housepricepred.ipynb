{
 "cells": [
  {
   "cell_type": "code",
   "execution_count": 1,
   "metadata": {},
   "outputs": [],
   "source": [
    "#Loading necessary libraries\n",
    "\n",
    "import pandas as pd\n",
    "import numpy as np\n",
    "import seaborn as sns\n",
    "import matplotlib.pyplot as plt\n",
    "%matplotlib inline\n",
    "import seaborn as sns\n",
    "import scipy.stats as stats\n",
    "from collections import Counter\n",
    "import re\n",
    "\n",
    "\n",
    "from sklearn.model_selection import train_test_split # to split the data\n",
    "from sklearn.model_selection import cross_val_score, KFold\n",
    "\n",
    "from sklearn.linear_model import RidgeCV\n",
    "from sklearn.linear_model import LassoCV\n",
    "from sklearn.linear_model import ElasticNetCV\n",
    "from sklearn.linear_model import SGDRegressor\n",
    "from sklearn.svm import SVR\n",
    "from sklearn.ensemble import GradientBoostingRegressor\n",
    "from lightgbm import LGBMRegressor\n",
    "import xgboost as xgb\n",
    "from sklearn.ensemble import RandomForestRegressor\n",
    "#from mlxtend.regressor import StackingCVRegressor\n",
    "\n",
    "\n",
    "from sklearn.pipeline import make_pipeline\n",
    "from sklearn.metrics import r2_score\n",
    "import warnings\n",
    "warnings.filterwarnings('ignore')"
   ]
  },
  {
   "cell_type": "code",
   "execution_count": 2,
   "metadata": {},
   "outputs": [],
   "source": [
    "#Loading the dataset from the csv file\n",
    "\n",
    "df = pd.read_csv(\"b.csv\")"
   ]
  },
  {
   "cell_type": "code",
   "execution_count": 3,
   "metadata": {},
   "outputs": [
    {
     "data": {
      "text/html": [
       "<div>\n",
       "<style scoped>\n",
       "    .dataframe tbody tr th:only-of-type {\n",
       "        vertical-align: middle;\n",
       "    }\n",
       "\n",
       "    .dataframe tbody tr th {\n",
       "        vertical-align: top;\n",
       "    }\n",
       "\n",
       "    .dataframe thead th {\n",
       "        text-align: right;\n",
       "    }\n",
       "</style>\n",
       "<table border=\"1\" class=\"dataframe\">\n",
       "  <thead>\n",
       "    <tr style=\"text-align: right;\">\n",
       "      <th></th>\n",
       "      <th>area_type</th>\n",
       "      <th>availability</th>\n",
       "      <th>location</th>\n",
       "      <th>size</th>\n",
       "      <th>society</th>\n",
       "      <th>total_sqft</th>\n",
       "      <th>bath</th>\n",
       "      <th>balcony</th>\n",
       "      <th>price</th>\n",
       "    </tr>\n",
       "  </thead>\n",
       "  <tbody>\n",
       "    <tr>\n",
       "      <th>0</th>\n",
       "      <td>Super built-up  Area</td>\n",
       "      <td>19-Dec</td>\n",
       "      <td>Electronic City Phase II</td>\n",
       "      <td>2 BHK</td>\n",
       "      <td>Coomee</td>\n",
       "      <td>1056</td>\n",
       "      <td>2.0</td>\n",
       "      <td>1.0</td>\n",
       "      <td>39.07</td>\n",
       "    </tr>\n",
       "    <tr>\n",
       "      <th>1</th>\n",
       "      <td>Plot  Area</td>\n",
       "      <td>Ready To Move</td>\n",
       "      <td>Chikka Tirupathi</td>\n",
       "      <td>4 Bedroom</td>\n",
       "      <td>Theanmp</td>\n",
       "      <td>2600</td>\n",
       "      <td>5.0</td>\n",
       "      <td>3.0</td>\n",
       "      <td>120.00</td>\n",
       "    </tr>\n",
       "    <tr>\n",
       "      <th>2</th>\n",
       "      <td>Built-up  Area</td>\n",
       "      <td>Ready To Move</td>\n",
       "      <td>Uttarahalli</td>\n",
       "      <td>3 BHK</td>\n",
       "      <td>NaN</td>\n",
       "      <td>1440</td>\n",
       "      <td>2.0</td>\n",
       "      <td>3.0</td>\n",
       "      <td>62.00</td>\n",
       "    </tr>\n",
       "    <tr>\n",
       "      <th>3</th>\n",
       "      <td>Super built-up  Area</td>\n",
       "      <td>Ready To Move</td>\n",
       "      <td>Lingadheeranahalli</td>\n",
       "      <td>3 BHK</td>\n",
       "      <td>Soiewre</td>\n",
       "      <td>1521</td>\n",
       "      <td>3.0</td>\n",
       "      <td>1.0</td>\n",
       "      <td>95.00</td>\n",
       "    </tr>\n",
       "    <tr>\n",
       "      <th>4</th>\n",
       "      <td>Super built-up  Area</td>\n",
       "      <td>Ready To Move</td>\n",
       "      <td>Kothanur</td>\n",
       "      <td>2 BHK</td>\n",
       "      <td>NaN</td>\n",
       "      <td>1200</td>\n",
       "      <td>2.0</td>\n",
       "      <td>1.0</td>\n",
       "      <td>51.00</td>\n",
       "    </tr>\n",
       "  </tbody>\n",
       "</table>\n",
       "</div>"
      ],
      "text/plain": [
       "              area_type   availability                  location       size  \\\n",
       "0  Super built-up  Area         19-Dec  Electronic City Phase II      2 BHK   \n",
       "1            Plot  Area  Ready To Move          Chikka Tirupathi  4 Bedroom   \n",
       "2        Built-up  Area  Ready To Move               Uttarahalli      3 BHK   \n",
       "3  Super built-up  Area  Ready To Move        Lingadheeranahalli      3 BHK   \n",
       "4  Super built-up  Area  Ready To Move                  Kothanur      2 BHK   \n",
       "\n",
       "   society total_sqft  bath  balcony   price  \n",
       "0  Coomee        1056   2.0      1.0   39.07  \n",
       "1  Theanmp       2600   5.0      3.0  120.00  \n",
       "2      NaN       1440   2.0      3.0   62.00  \n",
       "3  Soiewre       1521   3.0      1.0   95.00  \n",
       "4      NaN       1200   2.0      1.0   51.00  "
      ]
     },
     "execution_count": 3,
     "metadata": {},
     "output_type": "execute_result"
    }
   ],
   "source": [
    "df.head()"
   ]
  },
  {
   "cell_type": "code",
   "execution_count": 4,
   "metadata": {},
   "outputs": [
    {
     "data": {
      "text/plain": [
       "(13320, 9)"
      ]
     },
     "execution_count": 4,
     "metadata": {},
     "output_type": "execute_result"
    }
   ],
   "source": [
    "#Checking the dataset dimensions\n",
    "\n",
    "df.shape"
   ]
  },
  {
   "cell_type": "code",
   "execution_count": 5,
   "metadata": {},
   "outputs": [
    {
     "data": {
      "text/html": [
       "<div>\n",
       "<style scoped>\n",
       "    .dataframe tbody tr th:only-of-type {\n",
       "        vertical-align: middle;\n",
       "    }\n",
       "\n",
       "    .dataframe tbody tr th {\n",
       "        vertical-align: top;\n",
       "    }\n",
       "\n",
       "    .dataframe thead th {\n",
       "        text-align: right;\n",
       "    }\n",
       "</style>\n",
       "<table border=\"1\" class=\"dataframe\">\n",
       "  <thead>\n",
       "    <tr style=\"text-align: right;\">\n",
       "      <th></th>\n",
       "      <th>bath</th>\n",
       "      <th>balcony</th>\n",
       "      <th>price</th>\n",
       "    </tr>\n",
       "  </thead>\n",
       "  <tbody>\n",
       "    <tr>\n",
       "      <th>count</th>\n",
       "      <td>13247.000000</td>\n",
       "      <td>12711.000000</td>\n",
       "      <td>13320.000000</td>\n",
       "    </tr>\n",
       "    <tr>\n",
       "      <th>mean</th>\n",
       "      <td>2.692610</td>\n",
       "      <td>1.584376</td>\n",
       "      <td>112.565627</td>\n",
       "    </tr>\n",
       "    <tr>\n",
       "      <th>std</th>\n",
       "      <td>1.341458</td>\n",
       "      <td>0.817263</td>\n",
       "      <td>148.971674</td>\n",
       "    </tr>\n",
       "    <tr>\n",
       "      <th>min</th>\n",
       "      <td>1.000000</td>\n",
       "      <td>0.000000</td>\n",
       "      <td>8.000000</td>\n",
       "    </tr>\n",
       "    <tr>\n",
       "      <th>25%</th>\n",
       "      <td>2.000000</td>\n",
       "      <td>1.000000</td>\n",
       "      <td>50.000000</td>\n",
       "    </tr>\n",
       "    <tr>\n",
       "      <th>50%</th>\n",
       "      <td>2.000000</td>\n",
       "      <td>2.000000</td>\n",
       "      <td>72.000000</td>\n",
       "    </tr>\n",
       "    <tr>\n",
       "      <th>75%</th>\n",
       "      <td>3.000000</td>\n",
       "      <td>2.000000</td>\n",
       "      <td>120.000000</td>\n",
       "    </tr>\n",
       "    <tr>\n",
       "      <th>max</th>\n",
       "      <td>40.000000</td>\n",
       "      <td>3.000000</td>\n",
       "      <td>3600.000000</td>\n",
       "    </tr>\n",
       "  </tbody>\n",
       "</table>\n",
       "</div>"
      ],
      "text/plain": [
       "               bath       balcony         price\n",
       "count  13247.000000  12711.000000  13320.000000\n",
       "mean       2.692610      1.584376    112.565627\n",
       "std        1.341458      0.817263    148.971674\n",
       "min        1.000000      0.000000      8.000000\n",
       "25%        2.000000      1.000000     50.000000\n",
       "50%        2.000000      2.000000     72.000000\n",
       "75%        3.000000      2.000000    120.000000\n",
       "max       40.000000      3.000000   3600.000000"
      ]
     },
     "execution_count": 5,
     "metadata": {},
     "output_type": "execute_result"
    }
   ],
   "source": [
    "df.describe()"
   ]
  },
  {
   "cell_type": "markdown",
   "metadata": {},
   "source": [
    "Data Exploration"
   ]
  },
  {
   "cell_type": "code",
   "execution_count": null,
   "metadata": {},
   "outputs": [],
   "source": []
  },
  {
   "cell_type": "code",
   "execution_count": 6,
   "metadata": {},
   "outputs": [
    {
     "name": "stdout",
     "output_type": "stream",
     "text": [
      "# of categories in area_type : 4\n",
      "# of categories in availability : 81\n",
      "# of categories in location : 1306\n",
      "# of categories in size : 32\n",
      "# of categories in society : 2689\n",
      "# of categories in total_sqft : 2117\n"
     ]
    }
   ],
   "source": [
    "#Checking the number of different categories in each categorical columns \n",
    "#area_type\tavailability\tlocation\tsize\tsociety\ttotal_sqft\n",
    "\n",
    "cat_col = ['area_type','availability','location','size','society','total_sqft']\n",
    "           \n",
    "for i in cat_col:\n",
    "    print('# of categories in', i, ':',len(df[i].unique()))\n",
    "           "
   ]
  },
  {
   "cell_type": "code",
   "execution_count": 7,
   "metadata": {},
   "outputs": [
    {
     "name": "stdout",
     "output_type": "stream",
     "text": [
      "Count total NaN at each column in a DataFrame :\n",
      "\n",
      " area_type          0\n",
      "availability       0\n",
      "location           1\n",
      "size              16\n",
      "society         5502\n",
      "total_sqft         0\n",
      "bath              73\n",
      "balcony          609\n",
      "price              0\n",
      "dtype: int64\n"
     ]
    }
   ],
   "source": [
    "# Checking the number of Null Values in each column \n",
    "\n",
    "print(\"Count total NaN at each column in a DataFrame :\\n\\n\", df.isnull().sum()) "
   ]
  },
  {
   "cell_type": "code",
   "execution_count": 8,
   "metadata": {},
   "outputs": [],
   "source": [
    "#5 variables has missing values and some of these has higher concentration of missing values like in society and balcony."
   ]
  },
  {
   "cell_type": "code",
   "execution_count": 9,
   "metadata": {},
   "outputs": [
    {
     "data": {
      "text/plain": [
       "<matplotlib.axes._subplots.AxesSubplot at 0x1ab926b0828>"
      ]
     },
     "execution_count": 9,
     "metadata": {},
     "output_type": "execute_result"
    },
    {
     "data": {
      "image/png": "[encoded data removed]",
      "text/plain": [
       "<Figure size 432x288 with 1 Axes>"
      ]
     },
     "metadata": {
      "needs_background": "light"
     },
     "output_type": "display_data"
    },
    {
     "data": {
      "image/png": "[encoded data removed]",
      "text/plain": [
       "<Figure size 432x288 with 1 Axes>"
      ]
     },
     "metadata": {
      "needs_background": "light"
     },
     "output_type": "display_data"
    }
   ],
   "source": [
    "#Checking the distribution of Price variable\n",
    "\n",
    "y = df['price']\n",
    "\n",
    "#Normal Distribution curve\n",
    "plt.figure(2); plt.title('Normal')\n",
    "sns.distplot(y, kde=False, fit=stats.norm)\n",
    "\n",
    "#Log normal distributio curve\n",
    "plt.figure(3); plt.title('Log Normal')\n",
    "sns.distplot(y, kde=False, fit=stats.lognorm)"
   ]
  },
  {
   "cell_type": "code",
   "execution_count": 10,
   "metadata": {},
   "outputs": [],
   "source": [
    "#Price doesn't follow the normal distribution, so before performing regression it has to be transformed."
   ]
  },
  {
   "cell_type": "code",
   "execution_count": null,
   "metadata": {},
   "outputs": [],
   "source": []
  },
  {
   "cell_type": "markdown",
   "metadata": {},
   "source": [
    "Data Cleaning & Feature Engineering"
   ]
  },
  {
   "cell_type": "code",
   "execution_count": null,
   "metadata": {},
   "outputs": [],
   "source": []
  },
  {
   "cell_type": "code",
   "execution_count": 11,
   "metadata": {},
   "outputs": [],
   "source": [
    "'''\n",
    "Availability \n",
    "==> Creating buckets based on the Month ==> \"Ready to Move\" and \"Immediate Possession\" will have value = 0 and rest will \n",
    "    be 1, 2, 3, etc based on the month\n",
    "'''\n",
    "\n",
    "def month_string_to_number(month_list):\n",
    "    m = {\n",
    "        'jan': 1,\n",
    "        'feb': 2,\n",
    "        'mar': 3,\n",
    "        'apr': 4,\n",
    "        'may': 5,\n",
    "        'jun': 6,\n",
    "        'jul': 7,\n",
    "        'aug': 8,\n",
    "        'sep': 9,\n",
    "        'oct': 10,\n",
    "        'nov': 11,\n",
    "        'dec': 12,\n",
    "        'Immediate Possession' : 0,\n",
    "        'Ready To Move' : 0,\n",
    "        'Other' : 0\n",
    "        }\n",
    "\n",
    "    s = ['Other' if x == 'Immediate Possession' or x == 'Ready To Move' \n",
    "              else x.split(\"-\")[1].strip()[:3].lower() for x in month_list]\n",
    "    month = [m[x] for x in s]\n",
    "    return month\n",
    "\n",
    "\n",
    "df['availability'] = month_string_to_number(df['availability'])\n"
   ]
  },
  {
   "cell_type": "code",
   "execution_count": 12,
   "metadata": {},
   "outputs": [
    {
     "data": {
      "text/plain": [
       "<matplotlib.axes._subplots.AxesSubplot at 0x1ab968fe630>"
      ]
     },
     "execution_count": 12,
     "metadata": {},
     "output_type": "execute_result"
    },
    {
     "data": {
      "image/png": "[encoded data removed]",
      "text/plain": [
       "<Figure size 432x288 with 1 Axes>"
      ]
     },
     "metadata": {
      "needs_background": "light"
     },
     "output_type": "display_data"
    }
   ],
   "source": [
    "#Checking the distribution of availability\n",
    "\n",
    "temp = df[['availability', 'price']].groupby(by=['availability']).mean().reset_index()\n",
    "sns.barplot(x = temp['availability'], y = temp['price'] )"
   ]
  },
  {
   "cell_type": "code",
   "execution_count": null,
   "metadata": {},
   "outputs": [],
   "source": []
  },
  {
   "cell_type": "code",
   "execution_count": 13,
   "metadata": {},
   "outputs": [],
   "source": [
    "'''\n",
    "#Location \n",
    "==> Since Location variable has one NULL value, Impute the null value with \"Other\"\n",
    "==> After handling null values, Bucket the Location Variable based on the count of locations, replace locations with \n",
    "count < 50 with \"Others\"\n",
    "\n",
    "'''\n",
    "\n",
    "#Imputing Null Value with \"Other\"\n",
    "df[\"location\"].fillna(\"Other\", inplace = True) \n",
    "\n",
    "\n",
    "#Creating buckets based on the frequency of category(location in this case)\n",
    "\n",
    "loc_count = Counter(df['location'])\n",
    "loc = []\n",
    "for i in df['location']:\n",
    "    if loc_count[i] < 10:\n",
    "        temp = 'Other'\n",
    "    else:\n",
    "        temp = i\n",
    "    loc.append(temp)\n",
    "    \n",
    "df['location'] = loc"
   ]
  },
  {
   "cell_type": "code",
   "execution_count": null,
   "metadata": {},
   "outputs": [],
   "source": []
  },
  {
   "cell_type": "code",
   "execution_count": null,
   "metadata": {},
   "outputs": [],
   "source": []
  },
  {
   "cell_type": "code",
   "execution_count": 14,
   "metadata": {},
   "outputs": [],
   "source": [
    "'''\n",
    "#SIZE \n",
    "==> Need to make the name \"BHK\", \"BEDROOM\" consistent\n",
    "==> There are some missing values, Impute the median value based on Society, Location and Area_Type \n",
    "==> Bucket the size Variable based on the frequency\n",
    "\n",
    "'''\n",
    "\n",
    "#Extracting just the numerical part of the size to make it consistent\n",
    "\n",
    "df['size'] = df['size'].fillna('Other')\n",
    "df['size'] = [x.split(' ')[0] for x in df['size']]\n",
    "df['size'] = [int(-1) if x == 'Other' else int(x) for x in df['size']]\n",
    "\n",
    "\n",
    "#Replacing the null value with the median value of the column\n",
    "median_size = df[df['size'] > 0]['size'].median()\n",
    "df['size'] = [int(median_size) if x <0 else x for x in df['size']]\n",
    "\n",
    "\n",
    "#Creating buckets based on the frequency of category(location in this case)\n",
    "size_count = Counter(df['size'])\n",
    "size = []\n",
    "for i in df['size']:\n",
    "    if size_count[i] <= 10:\n",
    "        temp = 10\n",
    "    else:\n",
    "        temp = i\n",
    "    size.append(temp)\n",
    "    \n",
    "df['size'] = size"
   ]
  },
  {
   "cell_type": "code",
   "execution_count": 15,
   "metadata": {},
   "outputs": [
    {
     "data": {
      "text/plain": [
       "<matplotlib.axes._subplots.AxesSubplot at 0x1ab969bba20>"
      ]
     },
     "execution_count": 15,
     "metadata": {},
     "output_type": "execute_result"
    },
    {
     "data": {
      "image/png": "[encoded data removed]",
      "text/plain": [
       "<Figure size 432x288 with 1 Axes>"
      ]
     },
     "metadata": {
      "needs_background": "light"
     },
     "output_type": "display_data"
    }
   ],
   "source": [
    "#Checking the distribution of size after binning\n",
    "\n",
    "\n",
    "temp = df[['size', 'price']].groupby(by=['size']).count().reset_index().rename(columns={\"price\": \"Count\"})\n",
    "sns.barplot(x = temp['size'], y = temp['Count'] )\n",
    "\n",
    "\n",
    "#Majority of the records are having 1,2,3, and 4 bedroom"
   ]
  },
  {
   "cell_type": "code",
   "execution_count": null,
   "metadata": {},
   "outputs": [],
   "source": []
  },
  {
   "cell_type": "code",
   "execution_count": 16,
   "metadata": {},
   "outputs": [],
   "source": [
    "'''\n",
    "#Society \n",
    "==> Impute the null values with \"Other\"\n",
    "==> After handling null values, Bucket the Society Variable based on the count of locations, replace locations with \n",
    "count < 50 with \"Others\"\n",
    "\n",
    "'''\n",
    "\n",
    "#Imputing Null Value with \"Other\"\n",
    "df[\"society\"].fillna(\"Other\", inplace = True) \n",
    "\n",
    "\n",
    "#Creating buckets based on the frequency of category(Society in this case)\n",
    "#Frequency threshold is choosen based on distribution of the categories inside Society\n",
    "\n",
    "soc_count = Counter(df['society'])\n",
    "soc = []\n",
    "for i in df['society']:\n",
    "    if soc_count[i] < 5:\n",
    "        temp = 'Other'\n",
    "    else:\n",
    "        temp = i\n",
    "    soc.append(temp)\n",
    "    \n",
    "df['society'] = soc"
   ]
  },
  {
   "cell_type": "code",
   "execution_count": null,
   "metadata": {},
   "outputs": [],
   "source": []
  },
  {
   "cell_type": "code",
   "execution_count": 17,
   "metadata": {},
   "outputs": [],
   "source": [
    "'''\n",
    "#total_sqft \n",
    "==> Convert the values to Sq. Ft\n",
    "==> Take the avg of Sq. Ft where there is a range\n",
    "\n",
    "'''\n",
    "\n",
    "temp = []\n",
    "for x in df['total_sqft']:\n",
    "    \n",
    "    if 'Meter' in x or 'Meters' in x:\n",
    "        temp1 = re.findall(r'\\d+', x)\n",
    "        res2 = list(map(str, temp1))\n",
    "        if len(res2)>1:\n",
    "            temp.append(round(float(res2[0] + '.' + res2[1]) * 10.7639))\n",
    "        else:\n",
    "            temp.append(round(float(res2[0]) * 10.7639))\n",
    "        \n",
    "    elif 'Yards' in x or 'Yard' in x:\n",
    "        temp1 = re.findall(r'\\d+', x)\n",
    "        res2 = list(map(str, temp1))\n",
    "        if len(res2)>1:\n",
    "            temp.append(round(float(res2[0] + '.' + res2[1]) * 9))\n",
    "        else:\n",
    "            temp.append(round(float(res2[0]) * 9))\n",
    "        \n",
    "    elif 'Acres' in x or 'Acre' in x:\n",
    "        temp1 = re.findall(r'\\d+', x)\n",
    "        res2 = list(map(str, temp1))\n",
    "        if len(res2)>1:\n",
    "            temp.append(round(float(res2[0] + '.' + res2[1]) * 43560))\n",
    "        else:\n",
    "            temp.append(round(float(res2[0]) * 43560))\n",
    "    \n",
    "    elif x.isalnum():\n",
    "        temp1 = re.findall(r'\\d+', x)\n",
    "        res2 = list(map(int, temp1))\n",
    "        temp.append(res2[0])\n",
    "        \n",
    "    elif '-' in x:\n",
    "        temp1 = x.split('-')\n",
    "        temp1 = [float(x.strip()) for x in temp1]\n",
    "        av = round(sum(temp1) / float(len(temp1)))\n",
    "        temp.append(av)\n",
    "    \n",
    "    else:\n",
    "        temp.append(float(x.strip()))\n",
    "    \n",
    "        \n",
    "df['total_sqft'] = [round(x) for x in temp]"
   ]
  },
  {
   "cell_type": "code",
   "execution_count": 18,
   "metadata": {},
   "outputs": [],
   "source": [
    "# #Checking the distribution of total_sqft variable\n",
    "\n",
    "# y = df['total_sqft']\n",
    "\n",
    "# #Normal Distribution curve\n",
    "# plt.figure(2); plt.title('Normal')\n",
    "# sns.distplot(y, kde=False, fit=stats.norm)\n",
    "\n",
    "# #Log normal distributio curve\n",
    "# plt.figure(3); plt.title('Log Normal')\n",
    "# sns.distplot(y, kde=False, fit=stats.lognorm)"
   ]
  },
  {
   "cell_type": "code",
   "execution_count": null,
   "metadata": {},
   "outputs": [],
   "source": []
  },
  {
   "cell_type": "code",
   "execution_count": 19,
   "metadata": {},
   "outputs": [
    {
     "name": "stdout",
     "output_type": "stream",
     "text": [
      "Distribution before binning\n"
     ]
    },
    {
     "data": {
      "image/png": "[encoded data removed]",
      "text/plain": [
       "<Figure size 432x288 with 1 Axes>"
      ]
     },
     "metadata": {
      "needs_background": "light"
     },
     "output_type": "display_data"
    }
   ],
   "source": [
    "'''\n",
    "#Bath\n",
    "==> Impute the null values with median of the column\n",
    "==> After handling null values, Bucket the Bath Variable based on the frequency, replace bath with \n",
    "count > 5 with \"5+\"\n",
    "'''\n",
    "\n",
    "#Imputing Null Value with Median of the column\n",
    "median_bath = df['bath'].median()\n",
    "df['bath'] = df['bath'].fillna(median_bath)\n",
    "\n",
    "\n",
    "#Checking the distribution of data based on bath values\n",
    "print('Distribution before binning')\n",
    "temp = df[['bath', 'price']].groupby(by=['bath']).count().reset_index().rename(columns={\"price\": \"Count\"})\n",
    "sns.barplot(x = temp['bath'], y = temp['Count'] )\n",
    "\n",
    "\n",
    "df['bath'] = [10 if x > 10 else x for x in df['bath']]\n",
    "\n"
   ]
  },
  {
   "cell_type": "code",
   "execution_count": 20,
   "metadata": {},
   "outputs": [
    {
     "name": "stdout",
     "output_type": "stream",
     "text": [
      "Distribution After binning\n"
     ]
    },
    {
     "data": {
      "text/plain": [
       "<matplotlib.axes._subplots.AxesSubplot at 0x1ab96b7f390>"
      ]
     },
     "execution_count": 20,
     "metadata": {},
     "output_type": "execute_result"
    },
    {
     "data": {
      "image/png": "[encoded data removed]",
      "text/plain": [
       "<Figure size 432x288 with 1 Axes>"
      ]
     },
     "metadata": {
      "needs_background": "light"
     },
     "output_type": "display_data"
    }
   ],
   "source": [
    "#Checking the distribution of data based on bath values\n",
    "print('Distribution After binning')\n",
    "temp = df[['bath', 'price']].groupby(by=['bath']).count().reset_index().rename(columns={\"price\": \"Count\"})\n",
    "sns.barplot(x = temp['bath'], y = temp['Count'] )"
   ]
  },
  {
   "cell_type": "code",
   "execution_count": null,
   "metadata": {},
   "outputs": [],
   "source": []
  },
  {
   "cell_type": "code",
   "execution_count": 21,
   "metadata": {},
   "outputs": [
    {
     "data": {
      "text/plain": [
       "<matplotlib.axes._subplots.AxesSubplot at 0x1ab96b59ef0>"
      ]
     },
     "execution_count": 21,
     "metadata": {},
     "output_type": "execute_result"
    },
    {
     "data": {
      "image/png": "[encoded data removed]",
      "text/plain": [
       "<Figure size 432x288 with 1 Axes>"
      ]
     },
     "metadata": {
      "needs_background": "light"
     },
     "output_type": "display_data"
    }
   ],
   "source": [
    "'''\n",
    "#Balcony\n",
    "==> Impute the null values with median of the column\n",
    "'''\n",
    "\n",
    "#Imputing Null Value with Median of the column\n",
    "median_balcony = df['balcony'].median()\n",
    "df['balcony'] = df['balcony'].fillna(median_balcony)\n",
    "#print(median_balcony)\n",
    "\n",
    "\n",
    "#Checking the distribution of data based on balcony values\n",
    "temp = df[['balcony', 'price']].groupby(by=['balcony']).count().reset_index().rename(columns={\"price\": \"Count\"})\n",
    "sns.barplot(x = temp['balcony'], y = temp['Count'] )"
   ]
  },
  {
   "cell_type": "code",
   "execution_count": null,
   "metadata": {},
   "outputs": [],
   "source": []
  },
  {
   "cell_type": "code",
   "execution_count": 22,
   "metadata": {},
   "outputs": [],
   "source": [
    "#Creating NEW Feature\n",
    "\n",
    "#==> Combining Bath and balcony to create a new categorical variable\n",
    "\n",
    "df['bathbalcony'] = [str(int(x)) + str(int(y)) for x,y in zip(df['bath'], df['balcony'])]\n",
    "df['bedbathbalcony'] = [str(int(x)) + str(int(y)) + str(int(z)) for x,y,z in zip(df['size'], df['bath'], df['balcony'])]"
   ]
  },
  {
   "cell_type": "code",
   "execution_count": 23,
   "metadata": {},
   "outputs": [
    {
     "data": {
      "text/html": [
       "<div>\n",
       "<style scoped>\n",
       "    .dataframe tbody tr th:only-of-type {\n",
       "        vertical-align: middle;\n",
       "    }\n",
       "\n",
       "    .dataframe tbody tr th {\n",
       "        vertical-align: top;\n",
       "    }\n",
       "\n",
       "    .dataframe thead th {\n",
       "        text-align: right;\n",
       "    }\n",
       "</style>\n",
       "<table border=\"1\" class=\"dataframe\">\n",
       "  <thead>\n",
       "    <tr style=\"text-align: right;\">\n",
       "      <th></th>\n",
       "      <th>area_type</th>\n",
       "      <th>availability</th>\n",
       "      <th>location</th>\n",
       "      <th>size</th>\n",
       "      <th>society</th>\n",
       "      <th>total_sqft</th>\n",
       "      <th>bath</th>\n",
       "      <th>balcony</th>\n",
       "      <th>price</th>\n",
       "      <th>bathbalcony</th>\n",
       "      <th>bedbathbalcony</th>\n",
       "    </tr>\n",
       "  </thead>\n",
       "  <tbody>\n",
       "    <tr>\n",
       "      <th>0</th>\n",
       "      <td>Super built-up  Area</td>\n",
       "      <td>12</td>\n",
       "      <td>Electronic City Phase II</td>\n",
       "      <td>2</td>\n",
       "      <td>Coomee</td>\n",
       "      <td>1056</td>\n",
       "      <td>2.0</td>\n",
       "      <td>1.0</td>\n",
       "      <td>39.07</td>\n",
       "      <td>21</td>\n",
       "      <td>221</td>\n",
       "    </tr>\n",
       "    <tr>\n",
       "      <th>1</th>\n",
       "      <td>Plot  Area</td>\n",
       "      <td>0</td>\n",
       "      <td>Chikka Tirupathi</td>\n",
       "      <td>4</td>\n",
       "      <td>Theanmp</td>\n",
       "      <td>2600</td>\n",
       "      <td>5.0</td>\n",
       "      <td>3.0</td>\n",
       "      <td>120.00</td>\n",
       "      <td>53</td>\n",
       "      <td>453</td>\n",
       "    </tr>\n",
       "    <tr>\n",
       "      <th>2</th>\n",
       "      <td>Built-up  Area</td>\n",
       "      <td>0</td>\n",
       "      <td>Uttarahalli</td>\n",
       "      <td>3</td>\n",
       "      <td>Other</td>\n",
       "      <td>1440</td>\n",
       "      <td>2.0</td>\n",
       "      <td>3.0</td>\n",
       "      <td>62.00</td>\n",
       "      <td>23</td>\n",
       "      <td>323</td>\n",
       "    </tr>\n",
       "    <tr>\n",
       "      <th>3</th>\n",
       "      <td>Super built-up  Area</td>\n",
       "      <td>0</td>\n",
       "      <td>Lingadheeranahalli</td>\n",
       "      <td>3</td>\n",
       "      <td>Soiewre</td>\n",
       "      <td>1521</td>\n",
       "      <td>3.0</td>\n",
       "      <td>1.0</td>\n",
       "      <td>95.00</td>\n",
       "      <td>31</td>\n",
       "      <td>331</td>\n",
       "    </tr>\n",
       "    <tr>\n",
       "      <th>4</th>\n",
       "      <td>Super built-up  Area</td>\n",
       "      <td>0</td>\n",
       "      <td>Kothanur</td>\n",
       "      <td>2</td>\n",
       "      <td>Other</td>\n",
       "      <td>1200</td>\n",
       "      <td>2.0</td>\n",
       "      <td>1.0</td>\n",
       "      <td>51.00</td>\n",
       "      <td>21</td>\n",
       "      <td>221</td>\n",
       "    </tr>\n",
       "  </tbody>\n",
       "</table>\n",
       "</div>"
      ],
      "text/plain": [
       "              area_type  availability                  location  size  \\\n",
       "0  Super built-up  Area            12  Electronic City Phase II     2   \n",
       "1            Plot  Area             0          Chikka Tirupathi     4   \n",
       "2        Built-up  Area             0               Uttarahalli     3   \n",
       "3  Super built-up  Area             0        Lingadheeranahalli     3   \n",
       "4  Super built-up  Area             0                  Kothanur     2   \n",
       "\n",
       "   society  total_sqft  bath  balcony   price bathbalcony bedbathbalcony  \n",
       "0  Coomee         1056   2.0      1.0   39.07          21            221  \n",
       "1  Theanmp        2600   5.0      3.0  120.00          53            453  \n",
       "2    Other        1440   2.0      3.0   62.00          23            323  \n",
       "3  Soiewre        1521   3.0      1.0   95.00          31            331  \n",
       "4    Other        1200   2.0      1.0   51.00          21            221  "
      ]
     },
     "execution_count": 23,
     "metadata": {},
     "output_type": "execute_result"
    }
   ],
   "source": [
    "df.head()"
   ]
  },
  {
   "cell_type": "code",
   "execution_count": 24,
   "metadata": {},
   "outputs": [
    {
     "data": {
      "text/plain": [
       "(13320, 11)"
      ]
     },
     "execution_count": 24,
     "metadata": {},
     "output_type": "execute_result"
    }
   ],
   "source": [
    "df.shape"
   ]
  },
  {
   "cell_type": "code",
   "execution_count": null,
   "metadata": {},
   "outputs": [],
   "source": []
  },
  {
   "cell_type": "markdown",
   "metadata": {},
   "source": [
    "Modeling"
   ]
  },
  {
   "cell_type": "code",
   "execution_count": null,
   "metadata": {},
   "outputs": [],
   "source": []
  },
  {
   "cell_type": "code",
   "execution_count": 25,
   "metadata": {},
   "outputs": [
    {
     "name": "stdout",
     "output_type": "stream",
     "text": [
      "New dataset shape: (13119, 11)\n"
     ]
    }
   ],
   "source": [
    "#Removing outliers from the Total_Sqft column\n",
    "\n",
    "q_low = df[\"total_sqft\"].quantile(0.005)\n",
    "q_hi  = df[\"total_sqft\"].quantile(0.99)\n",
    "\n",
    "df2 = df[(df[\"total_sqft\"] < q_hi) & (df[\"total_sqft\"] > q_low)]\n",
    "print('New dataset shape:', df2.shape)"
   ]
  },
  {
   "cell_type": "code",
   "execution_count": null,
   "metadata": {},
   "outputs": [],
   "source": []
  },
  {
   "cell_type": "code",
   "execution_count": 26,
   "metadata": {},
   "outputs": [
    {
     "name": "stdout",
     "output_type": "stream",
     "text": [
      "New dataset shape: (13119, 839)\n"
     ]
    }
   ],
   "source": [
    "#Dummification of categorical variables\n",
    "\n",
    "cat_col = ['area_type', 'availability', 'location', 'society', 'bathbalcony', 'bedbathbalcony']\n",
    "df3 = pd.get_dummies(df2, columns=cat_col).reset_index(drop=True)\n",
    "print('New dataset shape:', df3.shape)"
   ]
  },
  {
   "cell_type": "code",
   "execution_count": null,
   "metadata": {},
   "outputs": [],
   "source": []
  },
  {
   "cell_type": "code",
   "execution_count": 27,
   "metadata": {},
   "outputs": [],
   "source": [
    "#Removing varuables where Number of Zeros are more than the threshold\n",
    "\n",
    "overfit = []\n",
    "for i in df3.columns:\n",
    "    counts = df3[i].value_counts()\n",
    "    zeros = counts.iloc[0]\n",
    "    if zeros / len(df3) * 100 > 99.98:\n",
    "        overfit.append(i)\n",
    "\n",
    "overfit = list(overfit)\n",
    "df3 = df3.drop(overfit, axis=1)"
   ]
  },
  {
   "cell_type": "code",
   "execution_count": 28,
   "metadata": {},
   "outputs": [
    {
     "data": {
      "text/plain": [
       "(13119, 768)"
      ]
     },
     "execution_count": 28,
     "metadata": {},
     "output_type": "execute_result"
    }
   ],
   "source": [
    "df3.shape"
   ]
  },
  {
   "cell_type": "code",
   "execution_count": 29,
   "metadata": {},
   "outputs": [],
   "source": [
    "#Splitting the dataset into train and test\n",
    "\n",
    "X_train, X_test, y_train, y_test = train_test_split(df3.drop(['price'], axis=1) ,  np.log1p(df3['price']), \n",
    "                                                    test_size=0.25, random_state=42)"
   ]
  },
  {
   "cell_type": "code",
   "execution_count": 30,
   "metadata": {},
   "outputs": [],
   "source": [
    "kfolds = KFold(n_splits=10, shuffle=True, random_state=42)\n",
    "\n",
    "def r2(model, X_train, y_train):\n",
    "    scores = cross_val_score(model, X_train, y_train, scoring='r2', cv=kfolds, n_jobs=-1)\n",
    "    return scores"
   ]
  },
  {
   "cell_type": "code",
   "execution_count": 31,
   "metadata": {},
   "outputs": [
    {
     "name": "stdout",
     "output_type": "stream",
     "text": [
      "TEST score on CV\n",
      "Ridge Regression score: 0.7767 (0.0221)\n",
      "\n",
      "*****************************************\n",
      "Lasso Regression score: 0.7935 (0.0218)\n",
      "\n",
      "*****************************************\n",
      "elasticnet Regression score: 0.7906 (0.0215)\n",
      "\n",
      "*****************************************\n",
      "Support Vector Regression score: 0.7435 (0.0156)\n",
      "\n",
      "*****************************************\n",
      "Gradient Boosting Regressor score: 0.7934 (0.0216)\n",
      "\n",
      "*****************************************\n",
      "Light GBM Regressor score: 0.7746 (0.0191)\n",
      "\n",
      "*****************************************\n",
      "Random Forest Regressor score: 0.4396 (0.0260)\n",
      "\n"
     ]
    }
   ],
   "source": [
    "# setup models    \n",
    "alphas_alt = [14.5, 14.6, 14.7, 14.8, 14.9, 15, 15.1, 15.2, 15.3, 15.4, 15.5]\n",
    "alphas2 = [5e-05, 0.0001, 0.0002, 0.0003, 0.0004, 0.0005, 0.0006, 0.0007, 0.0008]\n",
    "e_alphas = [0.0001, 0.0002, 0.0003, 0.0004, 0.0005, 0.0006, 0.0007]\n",
    "e_l1ratio = [0.8, 0.85, 0.9, 0.95, 0.99, 1]\n",
    "\n",
    "ridge = RidgeCV(alphas=alphas_alt, cv=kfolds)\n",
    "\n",
    "lasso = LassoCV(max_iter=1e7, alphas=alphas2,\n",
    "                              random_state=42, cv=kfolds)\n",
    "\n",
    "elasticnet = ElasticNetCV(max_iter=1e7, alphas=e_alphas,\n",
    "                                        cv=kfolds, l1_ratio=e_l1ratio)\n",
    "                                        \n",
    "svr = SVR(C= 20, epsilon= 0.008, gamma=0.0003,)\n",
    "\n",
    "\n",
    "gbr = GradientBoostingRegressor(n_estimators=3000, learning_rate=0.05,\n",
    "                                   max_depth=4, max_features='sqrt',\n",
    "                                   min_samples_leaf=15, min_samples_split=10, \n",
    "                                   loss='huber', random_state =42)\n",
    "                                   \n",
    "\n",
    "lightgbm = LGBMRegressor(objective='regression', \n",
    "                                       num_leaves=4,\n",
    "                                       learning_rate=0.01, \n",
    "                                       n_estimators=5000,\n",
    "                                       max_bin=200, \n",
    "                                       bagging_fraction=0.75,\n",
    "                                       bagging_freq=5, \n",
    "                                       bagging_seed=7,\n",
    "                                       feature_fraction=0.2,\n",
    "                                       feature_fraction_seed=7,\n",
    "                                       verbose=-1,\n",
    "                                       #min_data_in_leaf=2,\n",
    "                                       #min_sum_hessian_in_leaf=11\n",
    "                                       )\n",
    "                                       \n",
    "\n",
    "randomforest = RandomForestRegressor(n_estimators=100,\n",
    "                                        criterion='mse',\n",
    "                                        max_depth=4,\n",
    "                                        min_samples_split=5,\n",
    "                                        min_samples_leaf=10,\n",
    "                                        max_leaf_nodes=None,\n",
    "                                        min_impurity_decrease=0.1,\n",
    "                                        random_state=42\n",
    "                                 )\n",
    "    \n",
    "                                \n",
    "print('TEST score on CV')\n",
    "\n",
    "score = r2(ridge, X_train, y_train)\n",
    "print(\"Ridge Regression score: {:.4f} ({:.4f})\\n\".format(score.mean(), score.std()), )\n",
    "\n",
    "print('*****************************************')\n",
    "score = r2(lasso, X_train, y_train)\n",
    "print(\"Lasso Regression score: {:.4f} ({:.4f})\\n\".format(score.mean(), score.std()), )\n",
    "\n",
    "print('*****************************************')\n",
    "score = r2(elasticnet, X_train, y_train)\n",
    "print(\"elasticnet Regression score: {:.4f} ({:.4f})\\n\".format(score.mean(), score.std()), )\n",
    "\n",
    "print('*****************************************')\n",
    "score = r2(svr, X_train, y_train)\n",
    "print(\"Support Vector Regression score: {:.4f} ({:.4f})\\n\".format(score.mean(), score.std()), )\n",
    "\n",
    "print('*****************************************')\n",
    "score = r2(gbr, X_train, y_train)\n",
    "print(\"Gradient Boosting Regressor score: {:.4f} ({:.4f})\\n\".format(score.mean(), score.std()), )\n",
    "\n",
    "print('*****************************************')\n",
    "score = r2(lightgbm, X_train, y_train)\n",
    "print(\"Light GBM Regressor score: {:.4f} ({:.4f})\\n\".format(score.mean(), score.std()), )\n",
    "\n",
    "print('*****************************************')\n",
    "score = r2(randomforest, X_train, y_train)\n",
    "print(\"Random Forest Regressor score: {:.4f} ({:.4f})\\n\".format(score.mean(), score.std()), )"
   ]
  },
  {
   "cell_type": "code",
   "execution_count": 32,
   "metadata": {},
   "outputs": [
    {
     "name": "stdout",
     "output_type": "stream",
     "text": [
      "Fitting the testing dataset\n",
      "elasticnet\n",
      "Lasso\n",
      "Ridge\n",
      "Svr\n",
      "GradientBoosting\n",
      "random forest\n",
      "lightgbm\n"
     ]
    }
   ],
   "source": [
    "print('Fitting the testing dataset')\n",
    "\n",
    "print('elasticnet')\n",
    "elastic_model_full_data = elasticnet.fit(X_train, y_train)\n",
    "\n",
    "print('Lasso')\n",
    "lasso_model_full_data = lasso.fit(X_train, y_train)\n",
    "\n",
    "print('Ridge')\n",
    "ridge_model_full_data = ridge.fit(X_train, y_train)\n",
    "\n",
    "print('Svr')\n",
    "svr_model_full_data = svr.fit(X_train, y_train)\n",
    "\n",
    "print('GradientBoosting')\n",
    "gbr_model_full_data = gbr.fit(X_train, y_train)\n",
    "\n",
    "print('random forest')\n",
    "randomforest_model_full_data = randomforest.fit(X_train, y_train)\n",
    "\n",
    "print('lightgbm')\n",
    "lgb_model_full_data = lightgbm.fit(X_train, y_train)"
   ]
  },
  {
   "cell_type": "code",
   "execution_count": 35,
   "metadata": {},
   "outputs": [],
   "source": [
    "def blend_models_predict(X_test):\n",
    "    return ((0.3 * elastic_model_full_data.predict(X_test)) + \\\n",
    "            (0.1 * lasso_model_full_data.predict(X_test)) + \\\n",
    "            (0.15 * ridge_model_full_data.predict(X_test)) + \\\n",
    "            (0.05 * svr_model_full_data.predict(X_test)) + \\\n",
    "            (0.3 * gbr_model_full_data.predict(X_test)) + \\\n",
    "            (0.1 * lgb_model_full_data.predict(X_test))\n",
    "            )\n",
    "\n",
    "prediction = blend_models_predict(X_test)"
   ]
  },
  {
   "cell_type": "code",
   "execution_count": 36,
   "metadata": {},
   "outputs": [
    {
     "name": "stdout",
     "output_type": "stream",
     "text": [
      "R2 on the test dataset: 0.791\n"
     ]
    }
   ],
   "source": [
    "r2 = r2_score(y_test, prediction, multioutput='variance_weighted')\n",
    "print(\"R2 on the test dataset:\",round(r2,3))"
   ]
  },
  {
   "cell_type": "code",
   "execution_count": null,
   "metadata": {},
   "outputs": [],
   "source": []
  }
 ],
 "metadata": {
  "kernelspec": {
   "display_name": "Python 3",
   "language": "python",
   "name": "python3"
  },
  "language_info": {
   "codemirror_mode": {
    "name": "ipython",
    "version": 3
   },
   "file_extension": ".py",
   "mimetype": "text/x-python",
   "name": "python",
   "nbconvert_exporter": "python",
   "pygments_lexer": "ipython3",
   "version": "3.6.5"
  }
 },
 "nbformat": 4,
 "nbformat_minor": 2
}
