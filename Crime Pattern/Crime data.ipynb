{
 "cells": [
  {
   "cell_type": "code",
   "execution_count": 62,
   "metadata": {
    "collapsed": true
   },
   "outputs": [],
   "source": [
    "import pandas as pd\n",
    "import numpy as np\n",
    "from datetime import datetime\n",
    "import math\n",
    "from sklearn.metrics import accuracy_score\n",
    "import collections\n",
    "from sklearn.cluster import KMeans\n",
    "import numpy as np"
   ]
  },
  {
   "cell_type": "code",
   "execution_count": 63,
   "metadata": {
    "collapsed": true
   },
   "outputs": [],
   "source": [
    "#Reading train file"
   ]
  },
  {
   "cell_type": "code",
   "execution_count": 64,
   "metadata": {
    "collapsed": false
   },
   "outputs": [],
   "source": [
    "df = pd.read_csv(\"Train.csv\")\n",
    "df_test = pd.read_csv(\"Test.csv\")"
   ]
  },
  {
   "cell_type": "code",
   "execution_count": 65,
   "metadata": {
    "collapsed": false
   },
   "outputs": [
    {
     "data": {
      "text/html": [
       "<div>\n",
       "<table border=\"1\" class=\"dataframe\">\n",
       "  <thead>\n",
       "    <tr style=\"text-align: right;\">\n",
       "      <th></th>\n",
       "      <th>incident_datetime</th>\n",
       "      <th>incident_cord_x</th>\n",
       "      <th>incident_cord_y</th>\n",
       "      <th>num_victims</th>\n",
       "      <th>location_type</th>\n",
       "      <th>Crime_Type</th>\n",
       "    </tr>\n",
       "  </thead>\n",
       "  <tbody>\n",
       "    <tr>\n",
       "      <th>234</th>\n",
       "      <td>08-Mar-2044 14:00:00</td>\n",
       "      <td>0.0</td>\n",
       "      <td>0.0</td>\n",
       "      <td>1.0</td>\n",
       "      <td>6</td>\n",
       "      <td>RAPE</td>\n",
       "    </tr>\n",
       "    <tr>\n",
       "      <th>277</th>\n",
       "      <td>21-Jun-2044 01:01:00</td>\n",
       "      <td>0.0</td>\n",
       "      <td>0.0</td>\n",
       "      <td>1.0</td>\n",
       "      <td>0</td>\n",
       "      <td>RAPE</td>\n",
       "    </tr>\n",
       "    <tr>\n",
       "      <th>491</th>\n",
       "      <td>25-Jul-2044 22:00:00</td>\n",
       "      <td>0.0</td>\n",
       "      <td>0.0</td>\n",
       "      <td>1.0</td>\n",
       "      <td>5</td>\n",
       "      <td>RAPE</td>\n",
       "    </tr>\n",
       "    <tr>\n",
       "      <th>499</th>\n",
       "      <td>27-Oct-2044 16:30:00</td>\n",
       "      <td>0.0</td>\n",
       "      <td>0.0</td>\n",
       "      <td>1.0</td>\n",
       "      <td>13</td>\n",
       "      <td>RAPE</td>\n",
       "    </tr>\n",
       "    <tr>\n",
       "      <th>619</th>\n",
       "      <td>23-Jun-2044 05:00:00</td>\n",
       "      <td>0.0</td>\n",
       "      <td>0.0</td>\n",
       "      <td>1.0</td>\n",
       "      <td>18</td>\n",
       "      <td>RAPE</td>\n",
       "    </tr>\n",
       "  </tbody>\n",
       "</table>\n",
       "</div>"
      ],
      "text/plain": [
       "        incident_datetime  incident_cord_x  incident_cord_y  num_victims  \\\n",
       "234  08-Mar-2044 14:00:00              0.0              0.0          1.0   \n",
       "277  21-Jun-2044 01:01:00              0.0              0.0          1.0   \n",
       "491  25-Jul-2044 22:00:00              0.0              0.0          1.0   \n",
       "499  27-Oct-2044 16:30:00              0.0              0.0          1.0   \n",
       "619  23-Jun-2044 05:00:00              0.0              0.0          1.0   \n",
       "\n",
       "     location_type Crime_Type  \n",
       "234              6       RAPE  \n",
       "277              0       RAPE  \n",
       "491              5       RAPE  \n",
       "499             13       RAPE  \n",
       "619             18       RAPE  "
      ]
     },
     "execution_count": 65,
     "metadata": {},
     "output_type": "execute_result"
    }
   ],
   "source": [
    "df[df.incident_cord_x == 0].head(5)"
   ]
  },
  {
   "cell_type": "code",
   "execution_count": 66,
   "metadata": {
    "collapsed": true
   },
   "outputs": [],
   "source": [
    "df_test[\"Crime_Type\"] = \"To_be_predict\""
   ]
  },
  {
   "cell_type": "code",
   "execution_count": 67,
   "metadata": {
    "collapsed": false
   },
   "outputs": [
    {
     "data": {
      "text/plain": [
       "((26000, 6), (2000, 6))"
      ]
     },
     "execution_count": 67,
     "metadata": {},
     "output_type": "execute_result"
    }
   ],
   "source": [
    "df.shape, df_test.shape"
   ]
  },
  {
   "cell_type": "code",
   "execution_count": 68,
   "metadata": {
    "collapsed": true
   },
   "outputs": [],
   "source": [
    "df[\"data_type\"]  = \"Train_data\"\n",
    "df_test[\"data_type\"] = \"Test data\""
   ]
  },
  {
   "cell_type": "code",
   "execution_count": 69,
   "metadata": {
    "collapsed": false
   },
   "outputs": [
    {
     "data": {
      "text/plain": [
       "(28000, 7)"
      ]
     },
     "execution_count": 69,
     "metadata": {},
     "output_type": "execute_result"
    }
   ],
   "source": [
    "df_master  = pd.concat([df, df_test], ignore_index=True)\n",
    "df_master.shape"
   ]
  },
  {
   "cell_type": "code",
   "execution_count": 70,
   "metadata": {
    "collapsed": false
   },
   "outputs": [
    {
     "data": {
      "text/html": [
       "<div>\n",
       "<table border=\"1\" class=\"dataframe\">\n",
       "  <thead>\n",
       "    <tr style=\"text-align: right;\">\n",
       "      <th></th>\n",
       "      <th>incident_datetime</th>\n",
       "      <th>incident_cord_x</th>\n",
       "      <th>incident_cord_y</th>\n",
       "      <th>num_victims</th>\n",
       "      <th>location_type</th>\n",
       "      <th>Crime_Type</th>\n",
       "      <th>data_type</th>\n",
       "    </tr>\n",
       "  </thead>\n",
       "  <tbody>\n",
       "    <tr>\n",
       "      <th>0</th>\n",
       "      <td>06-Jun-2044 01:54:00</td>\n",
       "      <td>26.622589</td>\n",
       "      <td>-38.446780</td>\n",
       "      <td>1.0</td>\n",
       "      <td>0</td>\n",
       "      <td>LARCENY-FROM VEHICLE</td>\n",
       "      <td>Train_data</td>\n",
       "    </tr>\n",
       "    <tr>\n",
       "      <th>1</th>\n",
       "      <td>10-Jun-2044 13:00:00</td>\n",
       "      <td>26.619337</td>\n",
       "      <td>-38.441202</td>\n",
       "      <td>1.0</td>\n",
       "      <td>13</td>\n",
       "      <td>LARCENY-NON VEHICLE</td>\n",
       "      <td>Train_data</td>\n",
       "    </tr>\n",
       "    <tr>\n",
       "      <th>2</th>\n",
       "      <td>25-Feb-2044 09:00:00</td>\n",
       "      <td>26.616737</td>\n",
       "      <td>-38.444000</td>\n",
       "      <td>1.0</td>\n",
       "      <td>4</td>\n",
       "      <td>LARCENY-NON VEHICLE</td>\n",
       "      <td>Train_data</td>\n",
       "    </tr>\n",
       "    <tr>\n",
       "      <th>3</th>\n",
       "      <td>02-Jun-2044 09:30:00</td>\n",
       "      <td>26.620286</td>\n",
       "      <td>-38.444994</td>\n",
       "      <td>1.0</td>\n",
       "      <td>33</td>\n",
       "      <td>LARCENY-NON VEHICLE</td>\n",
       "      <td>Train_data</td>\n",
       "    </tr>\n",
       "    <tr>\n",
       "      <th>4</th>\n",
       "      <td>16-Mar-2044 19:20:00</td>\n",
       "      <td>26.626383</td>\n",
       "      <td>-38.443595</td>\n",
       "      <td>1.0</td>\n",
       "      <td>15</td>\n",
       "      <td>AUTO THEFT</td>\n",
       "      <td>Train_data</td>\n",
       "    </tr>\n",
       "  </tbody>\n",
       "</table>\n",
       "</div>"
      ],
      "text/plain": [
       "      incident_datetime  incident_cord_x  incident_cord_y  num_victims  \\\n",
       "0  06-Jun-2044 01:54:00        26.622589       -38.446780          1.0   \n",
       "1  10-Jun-2044 13:00:00        26.619337       -38.441202          1.0   \n",
       "2  25-Feb-2044 09:00:00        26.616737       -38.444000          1.0   \n",
       "3  02-Jun-2044 09:30:00        26.620286       -38.444994          1.0   \n",
       "4  16-Mar-2044 19:20:00        26.626383       -38.443595          1.0   \n",
       "\n",
       "   location_type            Crime_Type   data_type  \n",
       "0              0  LARCENY-FROM VEHICLE  Train_data  \n",
       "1             13   LARCENY-NON VEHICLE  Train_data  \n",
       "2              4   LARCENY-NON VEHICLE  Train_data  \n",
       "3             33   LARCENY-NON VEHICLE  Train_data  \n",
       "4             15            AUTO THEFT  Train_data  "
      ]
     },
     "execution_count": 70,
     "metadata": {},
     "output_type": "execute_result"
    }
   ],
   "source": [
    "df_master.head()"
   ]
  },
  {
   "cell_type": "code",
   "execution_count": 262,
   "metadata": {
    "collapsed": false
   },
   "outputs": [],
   "source": [
    "#df_master  =df_master.reset_index(drop= True)\n",
    "#df_master = df_master.sort_index()\n",
    "#df_master = df_master.sort([\"data_type\"], ascending= False)\n",
    "#df_master"
   ]
  },
  {
   "cell_type": "code",
   "execution_count": 71,
   "metadata": {
    "collapsed": false
   },
   "outputs": [
    {
     "data": {
      "text/html": [
       "<div>\n",
       "<table border=\"1\" class=\"dataframe\">\n",
       "  <thead>\n",
       "    <tr style=\"text-align: right;\">\n",
       "      <th></th>\n",
       "      <th>incident_datetime</th>\n",
       "      <th>incident_cord_x</th>\n",
       "      <th>incident_cord_y</th>\n",
       "      <th>num_victims</th>\n",
       "      <th>location_type</th>\n",
       "      <th>Crime_Type</th>\n",
       "      <th>data_type</th>\n",
       "    </tr>\n",
       "  </thead>\n",
       "  <tbody>\n",
       "    <tr>\n",
       "      <th>27995</th>\n",
       "      <td>27-Aug-2044 22:15:00</td>\n",
       "      <td>26.623449</td>\n",
       "      <td>-38.443225</td>\n",
       "      <td>1.0</td>\n",
       "      <td>13</td>\n",
       "      <td>To_be_predict</td>\n",
       "      <td>Test data</td>\n",
       "    </tr>\n",
       "    <tr>\n",
       "      <th>27996</th>\n",
       "      <td>09-Feb-2044 13:24:00</td>\n",
       "      <td>26.617790</td>\n",
       "      <td>-38.442426</td>\n",
       "      <td>1.0</td>\n",
       "      <td>31</td>\n",
       "      <td>To_be_predict</td>\n",
       "      <td>Test data</td>\n",
       "    </tr>\n",
       "    <tr>\n",
       "      <th>27997</th>\n",
       "      <td>26-Nov-2044 12:45:00</td>\n",
       "      <td>26.619115</td>\n",
       "      <td>-38.443991</td>\n",
       "      <td>1.0</td>\n",
       "      <td>10</td>\n",
       "      <td>To_be_predict</td>\n",
       "      <td>Test data</td>\n",
       "    </tr>\n",
       "    <tr>\n",
       "      <th>27998</th>\n",
       "      <td>25-Nov-2044 16:00:00</td>\n",
       "      <td>26.614555</td>\n",
       "      <td>-38.439522</td>\n",
       "      <td>1.0</td>\n",
       "      <td>13</td>\n",
       "      <td>To_be_predict</td>\n",
       "      <td>Test data</td>\n",
       "    </tr>\n",
       "    <tr>\n",
       "      <th>27999</th>\n",
       "      <td>02-Dec-2044 20:20:00</td>\n",
       "      <td>26.618205</td>\n",
       "      <td>-38.441152</td>\n",
       "      <td>1.0</td>\n",
       "      <td>10</td>\n",
       "      <td>To_be_predict</td>\n",
       "      <td>Test data</td>\n",
       "    </tr>\n",
       "  </tbody>\n",
       "</table>\n",
       "</div>"
      ],
      "text/plain": [
       "          incident_datetime  incident_cord_x  incident_cord_y  num_victims  \\\n",
       "27995  27-Aug-2044 22:15:00        26.623449       -38.443225          1.0   \n",
       "27996  09-Feb-2044 13:24:00        26.617790       -38.442426          1.0   \n",
       "27997  26-Nov-2044 12:45:00        26.619115       -38.443991          1.0   \n",
       "27998  25-Nov-2044 16:00:00        26.614555       -38.439522          1.0   \n",
       "27999  02-Dec-2044 20:20:00        26.618205       -38.441152          1.0   \n",
       "\n",
       "       location_type     Crime_Type  data_type  \n",
       "27995             13  To_be_predict  Test data  \n",
       "27996             31  To_be_predict  Test data  \n",
       "27997             10  To_be_predict  Test data  \n",
       "27998             13  To_be_predict  Test data  \n",
       "27999             10  To_be_predict  Test data  "
      ]
     },
     "execution_count": 71,
     "metadata": {},
     "output_type": "execute_result"
    }
   ],
   "source": [
    "df_master.tail()"
   ]
  },
  {
   "cell_type": "code",
   "execution_count": 220,
   "metadata": {
    "collapsed": false
   },
   "outputs": [],
   "source": [
    "#df[df.isnull().any(axis=1)].head(5)"
   ]
  },
  {
   "cell_type": "code",
   "execution_count": 72,
   "metadata": {
    "collapsed": false
   },
   "outputs": [
    {
     "data": {
      "text/html": [
       "<div>\n",
       "<table border=\"1\" class=\"dataframe\">\n",
       "  <thead>\n",
       "    <tr style=\"text-align: right;\">\n",
       "      <th></th>\n",
       "      <th>incident_datetime</th>\n",
       "      <th>incident_cord_x</th>\n",
       "      <th>incident_cord_y</th>\n",
       "      <th>num_victims</th>\n",
       "      <th>location_type</th>\n",
       "      <th>Crime_Type</th>\n",
       "      <th>data_type</th>\n",
       "    </tr>\n",
       "  </thead>\n",
       "  <tbody>\n",
       "    <tr>\n",
       "      <th>25995</th>\n",
       "      <td>09-Nov-2044 07:45:00</td>\n",
       "      <td>26.618441</td>\n",
       "      <td>-38.442300</td>\n",
       "      <td>1.0</td>\n",
       "      <td>10</td>\n",
       "      <td>LARCENY-FROM VEHICLE</td>\n",
       "      <td>Train_data</td>\n",
       "    </tr>\n",
       "    <tr>\n",
       "      <th>25996</th>\n",
       "      <td>10-Mar-2044 21:00:00</td>\n",
       "      <td>26.622858</td>\n",
       "      <td>-38.442917</td>\n",
       "      <td>1.0</td>\n",
       "      <td>0</td>\n",
       "      <td>LARCENY-FROM VEHICLE</td>\n",
       "      <td>Train_data</td>\n",
       "    </tr>\n",
       "    <tr>\n",
       "      <th>25997</th>\n",
       "      <td>19-Aug-2044 09:45:00</td>\n",
       "      <td>26.626018</td>\n",
       "      <td>-38.443824</td>\n",
       "      <td>1.0</td>\n",
       "      <td>13</td>\n",
       "      <td>BURGLARY-RESIDENCE</td>\n",
       "      <td>Train_data</td>\n",
       "    </tr>\n",
       "    <tr>\n",
       "      <th>25998</th>\n",
       "      <td>11-Mar-2044 02:00:00</td>\n",
       "      <td>26.621843</td>\n",
       "      <td>-38.441654</td>\n",
       "      <td>1.0</td>\n",
       "      <td>13</td>\n",
       "      <td>AUTO THEFT</td>\n",
       "      <td>Train_data</td>\n",
       "    </tr>\n",
       "    <tr>\n",
       "      <th>25999</th>\n",
       "      <td>10-Oct-2044 22:00:00</td>\n",
       "      <td>26.617635</td>\n",
       "      <td>-38.442312</td>\n",
       "      <td>1.0</td>\n",
       "      <td>10</td>\n",
       "      <td>LARCENY-FROM VEHICLE</td>\n",
       "      <td>Train_data</td>\n",
       "    </tr>\n",
       "  </tbody>\n",
       "</table>\n",
       "</div>"
      ],
      "text/plain": [
       "          incident_datetime  incident_cord_x  incident_cord_y  num_victims  \\\n",
       "25995  09-Nov-2044 07:45:00        26.618441       -38.442300          1.0   \n",
       "25996  10-Mar-2044 21:00:00        26.622858       -38.442917          1.0   \n",
       "25997  19-Aug-2044 09:45:00        26.626018       -38.443824          1.0   \n",
       "25998  11-Mar-2044 02:00:00        26.621843       -38.441654          1.0   \n",
       "25999  10-Oct-2044 22:00:00        26.617635       -38.442312          1.0   \n",
       "\n",
       "       location_type            Crime_Type   data_type  \n",
       "25995             10  LARCENY-FROM VEHICLE  Train_data  \n",
       "25996              0  LARCENY-FROM VEHICLE  Train_data  \n",
       "25997             13    BURGLARY-RESIDENCE  Train_data  \n",
       "25998             13            AUTO THEFT  Train_data  \n",
       "25999             10  LARCENY-FROM VEHICLE  Train_data  "
      ]
     },
     "execution_count": 72,
     "metadata": {},
     "output_type": "execute_result"
    }
   ],
   "source": [
    "df.tail()"
   ]
  },
  {
   "cell_type": "code",
   "execution_count": 73,
   "metadata": {
    "collapsed": false
   },
   "outputs": [],
   "source": [
    "#filling nan of num victims\n",
    "#df_master = df_master.fillna(-1)\n",
    "\n",
    "def time_var(df):\n",
    "    df[\"incident_datetime\"] = pd.to_datetime(df[\"incident_datetime\"])\n",
    "    df[\"Year\"] = df[\"incident_datetime\"].dt.year\n",
    "    df[\"Month\"] = df[\"incident_datetime\"].dt.month\n",
    "    df[\"Hour\"] = df[\"incident_datetime\"].dt.hour\n",
    "    df[\"Day\"] = df[\"incident_datetime\"].dt.day\n",
    "    df[\"Weekday\"] = df[\"incident_datetime\"].dt.weekday\n",
    "    bins =  [-0.001,3,6,9,12,15,18,21,24]\n",
    "    df['Hour'] = pd.cut(df['Hour'], bins, labels=[\"0-3\", \"3-6\", \"6-9\",\"9-12\", \"12-15\", \"15-18\", \"18-21\", \"21-24\"])\n",
    "    \n",
    "    bins =  [-1.1,-0.01,0,1,2,3,4,5,7,9,1000]\n",
    "    df[\"num_victims\"] = pd.cut(df['num_victims'], bins, labels=[\"Mis\",\"0\",\"1\", \"2\", \"3\", \"4\",\"5\", \"6-7\", \"8-9\", \"10-inf\"])\n",
    "\n",
    "    return df\n",
    "#df_master = time_var(df_master)\n",
    "\n",
    "def cluster_grid(df, df_master):\n",
    "    kmeans = KMeans(n_clusters=10, random_state=0).fit(df.loc[:, [\"incident_cord_x\", \"incident_cord_y\"]])\n",
    "    label =  kmeans.predict(df_master.loc[:, [\"incident_cord_x\", \"incident_cord_y\"]])\n",
    "    df_master[\"grid\"] = label\n",
    "    return df_master\n",
    "#df_master = cluster_grid(df, df_master)\n",
    "\n",
    "def loc_fill(df):\n",
    "    loc_train_x , loc_train_y = df[df.location_type != 0].loc[:, [\"incident_cord_x\",  \"incident_cord_y\"]], df[df.location_type != 0].loc[:, [\"location_type\"]]\n",
    "    loc_test_x, loc_test_y = df[df.location_type == 0].loc[:, [\"incident_cord_x\",  \"incident_cord_y\"]], df[df.location_type == 0].loc[:, [\"location_type\"]]\n",
    "    from sklearn.neighbors import KNeighborsClassifier\n",
    "    neigh = KNeighborsClassifier(n_neighbors=3)\n",
    "    neigh.fit(loc_train_x, loc_train_y)\n",
    "    y_predict_knn_loc = neigh.predict(loc_test_x)\n",
    "    for i in range(0,len(loc_test_y)):\n",
    "        loc_test_y.iloc[i,] = y_predict_knn_loc[i]\n",
    "    df_l_1 =  pd.concat([loc_train_x, loc_train_y], axis=1)\n",
    "    df_l_0 =  pd.concat([loc_test_x, loc_test_y], axis=1)\n",
    "    df_l  = pd.concat([df_l_1, df_l_0]).sort_index()\n",
    "    df_drop = df.drop([\"incident_cord_x\", \"incident_cord_y\", \"location_type\"], axis = 1)\n",
    "    df = pd.concat([df_drop, df_l], axis = 1)\n",
    "    return df\n",
    "#df_master = loc_fill(df_master)\n"
   ]
  },
  {
   "cell_type": "code",
   "execution_count": 74,
   "metadata": {
    "collapsed": false
   },
   "outputs": [
    {
     "name": "stderr",
     "output_type": "stream",
     "text": [
      "/usr/lib/python3.4/site-packages/ipykernel/__main__.py:32: DataConversionWarning: A column-vector y was passed when a 1d array was expected. Please change the shape of y to (n_samples, ), for example using ravel().\n"
     ]
    }
   ],
   "source": [
    "#df_master = df_master.fillna(-1)\n",
    "df = df.fillna(-1)\n",
    "\n",
    "#changing df\n",
    "df = time_var(df)\n",
    "df = cluster_grid(df, df)\n",
    "df = loc_fill(df)\n",
    "\n",
    "#changing master\n",
    "df_master = time_var(df_master)\n",
    "df_master = cluster_grid(df, df_master)\n",
    "df_master = loc_fill(df_master)"
   ]
  },
  {
   "cell_type": "code",
   "execution_count": 75,
   "metadata": {
    "collapsed": false
   },
   "outputs": [
    {
     "data": {
      "text/html": [
       "<div>\n",
       "<table border=\"1\" class=\"dataframe\">\n",
       "  <thead>\n",
       "    <tr style=\"text-align: right;\">\n",
       "      <th></th>\n",
       "      <th>incident_datetime</th>\n",
       "      <th>num_victims</th>\n",
       "      <th>Crime_Type</th>\n",
       "      <th>data_type</th>\n",
       "      <th>Year</th>\n",
       "      <th>Month</th>\n",
       "      <th>Hour</th>\n",
       "      <th>Day</th>\n",
       "      <th>Weekday</th>\n",
       "      <th>grid</th>\n",
       "      <th>incident_cord_x</th>\n",
       "      <th>incident_cord_y</th>\n",
       "      <th>location_type</th>\n",
       "    </tr>\n",
       "  </thead>\n",
       "  <tbody>\n",
       "    <tr>\n",
       "      <th>0</th>\n",
       "      <td>2044-06-06 01:54:00</td>\n",
       "      <td>1</td>\n",
       "      <td>LARCENY-FROM VEHICLE</td>\n",
       "      <td>Train_data</td>\n",
       "      <td>2044.0</td>\n",
       "      <td>6.0</td>\n",
       "      <td>0-3</td>\n",
       "      <td>6.0</td>\n",
       "      <td>0.0</td>\n",
       "      <td>2</td>\n",
       "      <td>26.622589</td>\n",
       "      <td>-38.446780</td>\n",
       "      <td>15</td>\n",
       "    </tr>\n",
       "    <tr>\n",
       "      <th>1</th>\n",
       "      <td>2044-06-10 13:00:00</td>\n",
       "      <td>1</td>\n",
       "      <td>LARCENY-NON VEHICLE</td>\n",
       "      <td>Train_data</td>\n",
       "      <td>2044.0</td>\n",
       "      <td>6.0</td>\n",
       "      <td>12-15</td>\n",
       "      <td>10.0</td>\n",
       "      <td>4.0</td>\n",
       "      <td>0</td>\n",
       "      <td>26.619337</td>\n",
       "      <td>-38.441202</td>\n",
       "      <td>13</td>\n",
       "    </tr>\n",
       "    <tr>\n",
       "      <th>2</th>\n",
       "      <td>2044-02-25 09:00:00</td>\n",
       "      <td>1</td>\n",
       "      <td>LARCENY-NON VEHICLE</td>\n",
       "      <td>Train_data</td>\n",
       "      <td>2044.0</td>\n",
       "      <td>2.0</td>\n",
       "      <td>6-9</td>\n",
       "      <td>25.0</td>\n",
       "      <td>3.0</td>\n",
       "      <td>3</td>\n",
       "      <td>26.616737</td>\n",
       "      <td>-38.444000</td>\n",
       "      <td>4</td>\n",
       "    </tr>\n",
       "    <tr>\n",
       "      <th>3</th>\n",
       "      <td>2044-06-02 09:30:00</td>\n",
       "      <td>1</td>\n",
       "      <td>LARCENY-NON VEHICLE</td>\n",
       "      <td>Train_data</td>\n",
       "      <td>2044.0</td>\n",
       "      <td>6.0</td>\n",
       "      <td>6-9</td>\n",
       "      <td>2.0</td>\n",
       "      <td>3.0</td>\n",
       "      <td>9</td>\n",
       "      <td>26.620286</td>\n",
       "      <td>-38.444994</td>\n",
       "      <td>33</td>\n",
       "    </tr>\n",
       "    <tr>\n",
       "      <th>4</th>\n",
       "      <td>2044-03-16 19:20:00</td>\n",
       "      <td>1</td>\n",
       "      <td>AUTO THEFT</td>\n",
       "      <td>Train_data</td>\n",
       "      <td>2044.0</td>\n",
       "      <td>3.0</td>\n",
       "      <td>18-21</td>\n",
       "      <td>16.0</td>\n",
       "      <td>2.0</td>\n",
       "      <td>8</td>\n",
       "      <td>26.626383</td>\n",
       "      <td>-38.443595</td>\n",
       "      <td>15</td>\n",
       "    </tr>\n",
       "  </tbody>\n",
       "</table>\n",
       "</div>"
      ],
      "text/plain": [
       "    incident_datetime num_victims            Crime_Type   data_type    Year  \\\n",
       "0 2044-06-06 01:54:00           1  LARCENY-FROM VEHICLE  Train_data  2044.0   \n",
       "1 2044-06-10 13:00:00           1   LARCENY-NON VEHICLE  Train_data  2044.0   \n",
       "2 2044-02-25 09:00:00           1   LARCENY-NON VEHICLE  Train_data  2044.0   \n",
       "3 2044-06-02 09:30:00           1   LARCENY-NON VEHICLE  Train_data  2044.0   \n",
       "4 2044-03-16 19:20:00           1            AUTO THEFT  Train_data  2044.0   \n",
       "\n",
       "   Month   Hour   Day  Weekday  grid  incident_cord_x  incident_cord_y  \\\n",
       "0    6.0    0-3   6.0      0.0     2        26.622589       -38.446780   \n",
       "1    6.0  12-15  10.0      4.0     0        26.619337       -38.441202   \n",
       "2    2.0    6-9  25.0      3.0     3        26.616737       -38.444000   \n",
       "3    6.0    6-9   2.0      3.0     9        26.620286       -38.444994   \n",
       "4    3.0  18-21  16.0      2.0     8        26.626383       -38.443595   \n",
       "\n",
       "   location_type  \n",
       "0             15  \n",
       "1             13  \n",
       "2              4  \n",
       "3             33  \n",
       "4             15  "
      ]
     },
     "execution_count": 75,
     "metadata": {},
     "output_type": "execute_result"
    }
   ],
   "source": [
    "df_master.head()"
   ]
  },
  {
   "cell_type": "code",
   "execution_count": 43,
   "metadata": {
    "collapsed": false
   },
   "outputs": [
    {
     "data": {
      "text/html": [
       "<div>\n",
       "<table border=\"1\" class=\"dataframe\">\n",
       "  <thead>\n",
       "    <tr style=\"text-align: right;\">\n",
       "      <th></th>\n",
       "      <th>incident_datetime</th>\n",
       "      <th>incident_cord_x</th>\n",
       "      <th>incident_cord_y</th>\n",
       "      <th>num_victims</th>\n",
       "      <th>location_type</th>\n",
       "      <th>Crime_Type</th>\n",
       "      <th>data_type</th>\n",
       "    </tr>\n",
       "  </thead>\n",
       "  <tbody>\n",
       "    <tr>\n",
       "      <th>27995</th>\n",
       "      <td>27-Aug-2044 22:15:00</td>\n",
       "      <td>26.623449</td>\n",
       "      <td>-38.443225</td>\n",
       "      <td>1.0</td>\n",
       "      <td>13</td>\n",
       "      <td>To_be_predict</td>\n",
       "      <td>Test data</td>\n",
       "    </tr>\n",
       "    <tr>\n",
       "      <th>27996</th>\n",
       "      <td>09-Feb-2044 13:24:00</td>\n",
       "      <td>26.617790</td>\n",
       "      <td>-38.442426</td>\n",
       "      <td>1.0</td>\n",
       "      <td>31</td>\n",
       "      <td>To_be_predict</td>\n",
       "      <td>Test data</td>\n",
       "    </tr>\n",
       "    <tr>\n",
       "      <th>27997</th>\n",
       "      <td>26-Nov-2044 12:45:00</td>\n",
       "      <td>26.619115</td>\n",
       "      <td>-38.443991</td>\n",
       "      <td>1.0</td>\n",
       "      <td>10</td>\n",
       "      <td>To_be_predict</td>\n",
       "      <td>Test data</td>\n",
       "    </tr>\n",
       "    <tr>\n",
       "      <th>27998</th>\n",
       "      <td>25-Nov-2044 16:00:00</td>\n",
       "      <td>26.614555</td>\n",
       "      <td>-38.439522</td>\n",
       "      <td>1.0</td>\n",
       "      <td>13</td>\n",
       "      <td>To_be_predict</td>\n",
       "      <td>Test data</td>\n",
       "    </tr>\n",
       "    <tr>\n",
       "      <th>27999</th>\n",
       "      <td>02-Dec-2044 20:20:00</td>\n",
       "      <td>26.618205</td>\n",
       "      <td>-38.441152</td>\n",
       "      <td>1.0</td>\n",
       "      <td>10</td>\n",
       "      <td>To_be_predict</td>\n",
       "      <td>Test data</td>\n",
       "    </tr>\n",
       "  </tbody>\n",
       "</table>\n",
       "</div>"
      ],
      "text/plain": [
       "          incident_datetime  incident_cord_x  incident_cord_y  num_victims  \\\n",
       "27995  27-Aug-2044 22:15:00        26.623449       -38.443225          1.0   \n",
       "27996  09-Feb-2044 13:24:00        26.617790       -38.442426          1.0   \n",
       "27997  26-Nov-2044 12:45:00        26.619115       -38.443991          1.0   \n",
       "27998  25-Nov-2044 16:00:00        26.614555       -38.439522          1.0   \n",
       "27999  02-Dec-2044 20:20:00        26.618205       -38.441152          1.0   \n",
       "\n",
       "       location_type     Crime_Type  data_type  \n",
       "27995             13  To_be_predict  Test data  \n",
       "27996             31  To_be_predict  Test data  \n",
       "27997             10  To_be_predict  Test data  \n",
       "27998             13  To_be_predict  Test data  \n",
       "27999             10  To_be_predict  Test data  "
      ]
     },
     "execution_count": 43,
     "metadata": {},
     "output_type": "execute_result"
    }
   ],
   "source": [
    "df_master.tail()"
   ]
  },
  {
   "cell_type": "markdown",
   "metadata": {},
   "source": [
    "# Visualization"
   ]
  },
  {
   "cell_type": "code",
   "execution_count": 120,
   "metadata": {
    "collapsed": false
   },
   "outputs": [],
   "source": [
    "#df.groupby(\"grid\")[[\"grid\"]].count()"
   ]
  },
  {
   "cell_type": "code",
   "execution_count": 121,
   "metadata": {
    "collapsed": false
   },
   "outputs": [],
   "source": [
    "#df.groupby(\"grid\")[[\"Crime_Type\"]].count()"
   ]
  },
  {
   "cell_type": "code",
   "execution_count": 377,
   "metadata": {
    "collapsed": false
   },
   "outputs": [
    {
     "data": {
      "image/png": "[encoded data removed]",
      "text/plain": [
       "<matplotlib.figure.Figure at 0x7f576823cbe0>"
      ]
     },
     "metadata": {},
     "output_type": "display_data"
    },
    {
     "data": {
      "text/plain": [
       "<matplotlib.figure.Figure at 0x7f5768043e80>"
      ]
     },
     "metadata": {},
     "output_type": "display_data"
    }
   ],
   "source": [
    "t =['AGG ASSAULT','AUTO THEFT','BURGLARY-NONRES','BURGLARY-RESIDENCE','LARCENY-FROM VEHICLE','LARCENY-NON VEHICLE','RAPE','ROBBERY-COMMERCIAL','ROBBERY-PEDESTRIAN','ROBBERY-RESIDENCE']\n",
    "ct = labelencoder_Y.fit_transform(df.Crime_Type)\n",
    "import matplotlib.pyplot as plt\n",
    "%matplotlib inline\n",
    "plt.scatter( list(df.num_victims),list(ct))\n",
    "plt.axis([0, 25, 0, 12])\n",
    "plt.figure(figsize=(150,310))\n",
    "plt.show()"
   ]
  },
  {
   "cell_type": "code",
   "execution_count": 265,
   "metadata": {
    "collapsed": false
   },
   "outputs": [
    {
     "data": {
      "image/png": "[encoded data removed]",
      "text/plain": [
       "<matplotlib.figure.Figure at 0x7f9fc3b620b8>"
      ]
     },
     "metadata": {},
     "output_type": "display_data"
    },
    {
     "data": {
      "text/plain": [
       "<matplotlib.figure.Figure at 0x7f9f600cd160>"
      ]
     },
     "metadata": {},
     "output_type": "display_data"
    },
    {
     "data": {
      "image/png": "[encoded data removed]",
      "text/plain": [
       "<matplotlib.figure.Figure at 0x7f9fc3b620b8>"
      ]
     },
     "metadata": {},
     "output_type": "display_data"
    },
    {
     "data": {
      "text/plain": [
       "<matplotlib.figure.Figure at 0x7f9f600cd978>"
      ]
     },
     "metadata": {},
     "output_type": "display_data"
    },
    {
     "data": {
      "image/png": "[encoded data removed]",
      "text/plain": [
       "<matplotlib.figure.Figure at 0x7f9f986e0eb8>"
      ]
     },
     "metadata": {},
     "output_type": "display_data"
    },
    {
     "data": {
      "text/plain": [
       "<matplotlib.figure.Figure at 0x7f9fc405bef0>"
      ]
     },
     "metadata": {},
     "output_type": "display_data"
    },
    {
     "data": {
      "image/png": "[encoded data removed]",
      "text/plain": [
       "<matplotlib.figure.Figure at 0x7f9f6804f860>"
      ]
     },
     "metadata": {},
     "output_type": "display_data"
    },
    {
     "data": {
      "text/plain": [
       "<matplotlib.figure.Figure at 0x7f9f680e8c50>"
      ]
     },
     "metadata": {},
     "output_type": "display_data"
    },
    {
     "data": {
      "image/png": "[encoded data removed]",
      "text/plain": [
       "<matplotlib.figure.Figure at 0x7f9f6804f860>"
      ]
     },
     "metadata": {},
     "output_type": "display_data"
    },
    {
     "data": {
      "text/plain": [
       "<matplotlib.figure.Figure at 0x7f9f600b89b0>"
      ]
     },
     "metadata": {},
     "output_type": "display_data"
    },
    {
     "data": {
      "image/png": "[encoded data removed]",
      "text/plain": [
       "<matplotlib.figure.Figure at 0x7f9fc3f4bb70>"
      ]
     },
     "metadata": {},
     "output_type": "display_data"
    },
    {
     "data": {
      "text/plain": [
       "<matplotlib.figure.Figure at 0x7f9f680fff28>"
      ]
     },
     "metadata": {},
     "output_type": "display_data"
    },
    {
     "data": {
      "image/png": "[encoded data removed]",
      "text/plain": [
       "<matplotlib.figure.Figure at 0x7f9fb00b6160>"
      ]
     },
     "metadata": {},
     "output_type": "display_data"
    },
    {
     "data": {
      "text/plain": [
       "<matplotlib.figure.Figure at 0x7f9f600b0eb8>"
      ]
     },
     "metadata": {},
     "output_type": "display_data"
    },
    {
     "data": {
      "image/png": "[encoded data removed]",
      "text/plain": [
       "<matplotlib.figure.Figure at 0x7f9fc40bf278>"
      ]
     },
     "metadata": {},
     "output_type": "display_data"
    },
    {
     "data": {
      "text/plain": [
       "<matplotlib.figure.Figure at 0x7f9f68142160>"
      ]
     },
     "metadata": {},
     "output_type": "display_data"
    },
    {
     "data": {
      "image/png": "[encoded data removed]",
      "text/plain": [
       "<matplotlib.figure.Figure at 0x7f9fc3b620b8>"
      ]
     },
     "metadata": {},
     "output_type": "display_data"
    },
    {
     "data": {
      "text/plain": [
       "<matplotlib.figure.Figure at 0x7f9f680d77f0>"
      ]
     },
     "metadata": {},
     "output_type": "display_data"
    },
    {
     "data": {
      "image/png": "[encoded data removed]",
      "text/plain": [
       "<matplotlib.figure.Figure at 0x7f9fc405cfd0>"
      ]
     },
     "metadata": {},
     "output_type": "display_data"
    },
    {
     "data": {
      "text/plain": [
       "<matplotlib.figure.Figure at 0x7f9f680f08d0>"
      ]
     },
     "metadata": {},
     "output_type": "display_data"
    }
   ],
   "source": [
    "t =['AGG ASSAULT','AUTO THEFT','BURGLARY-NONRES','BURGLARY-RESIDENCE','LARCENY-FROM VEHICLE','LARCENY-NON VEHICLE','RAPE','ROBBERY-COMMERCIAL','ROBBERY-PEDESTRIAN','ROBBERY-RESIDENCE']\n",
    "for i in t:\n",
    "    x_ = df.incident_cord_x\n",
    "    y_ =  df.incident_cord_y\n",
    "    import matplotlib.pyplot as plt\n",
    "    %matplotlib inline\n",
    "    plt.scatter( x_,y_)\n",
    "    plt.axis([26.60251568, 26.63130215, -38.45465708, -38.43460511])\n",
    "    plt.figure(figsize=(150,310))\n",
    "    plt.show()"
   ]
  },
  {
   "cell_type": "code",
   "execution_count": 43,
   "metadata": {
    "collapsed": false
   },
   "outputs": [
    {
     "data": {
      "text/plain": [
       "Index(['incident_datetime', 'num_victims', 'Crime_Type', 'data_type', 'Year',\n",
       "       'Month', 'Hour', 'Day', 'Weekday', 'grid', 'incident_cord_x',\n",
       "       'incident_cord_y', 'location_type'],\n",
       "      dtype='object')"
      ]
     },
     "execution_count": 43,
     "metadata": {},
     "output_type": "execute_result"
    }
   ],
   "source": [
    "df.columns"
   ]
  },
  {
   "cell_type": "code",
   "execution_count": null,
   "metadata": {
    "collapsed": true
   },
   "outputs": [],
   "source": [
    "#Dummification"
   ]
  },
  {
   "cell_type": "code",
   "execution_count": 76,
   "metadata": {
    "collapsed": false
   },
   "outputs": [
    {
     "name": "stdout",
     "output_type": "stream",
     "text": [
      "Before dummification we have 13 variables in train\n",
      "After dummification we have 117 variables in train\n"
     ]
    }
   ],
   "source": [
    "v = ['location_type', 'Year', 'Month','Hour', 'grid',\"Day\", \"Weekday\", \"num_victims\"]\n",
    "print('Before dummification we have {} variables in train'.format(df.shape[1]))\n",
    "df1 = pd.get_dummies(df, columns=v, drop_first=True)\n",
    "print('After dummification we have {} variables in train'.format(df1.shape[1]))"
   ]
  },
  {
   "cell_type": "code",
   "execution_count": 54,
   "metadata": {
    "collapsed": false
   },
   "outputs": [],
   "source": [
    "#v = ['location_type', 'Year', 'Month','Hour', 'grid',\"Day\", \"Weekday\", \"num_victims\"]\n",
    "#print('Before dummification we have {} variables in train'.format(df_master.shape[1]))\n",
    "#df_master = pd.get_dummies(df_master, columns=v, drop_first=True)\n",
    "#print('After dummification we have {} variables in train'.format(df_master.shape[1]))"
   ]
  },
  {
   "cell_type": "code",
   "execution_count": 77,
   "metadata": {
    "collapsed": false
   },
   "outputs": [],
   "source": [
    "df2 = df1"
   ]
  },
  {
   "cell_type": "code",
   "execution_count": 78,
   "metadata": {
    "collapsed": false
   },
   "outputs": [
    {
     "data": {
      "text/plain": [
       "({0, 1, 2, 3, 4, 5, 6, 7, 8, 9, 10},\n",
       " {'AGG ASSAULT',\n",
       "  'AUTO THEFT',\n",
       "  'BURGLARY-NONRES',\n",
       "  'BURGLARY-RESIDENCE',\n",
       "  'HOMICIDE',\n",
       "  'LARCENY-FROM VEHICLE',\n",
       "  'LARCENY-NON VEHICLE',\n",
       "  'RAPE',\n",
       "  'ROBBERY-COMMERCIAL',\n",
       "  'ROBBERY-PEDESTRIAN',\n",
       "  'ROBBERY-RESIDENCE'})"
      ]
     },
     "execution_count": 78,
     "metadata": {},
     "output_type": "execute_result"
    }
   ],
   "source": [
    "Y = df2[ 'Crime_Type'].values\n",
    "from sklearn import preprocessing\n",
    "labelencoder_Y = preprocessing.LabelEncoder()\n",
    "y = labelencoder_Y.fit_transform(Y)\n",
    "df2.Crime_Type = y\n",
    "set(y), set(Y)"
   ]
  },
  {
   "cell_type": "code",
   "execution_count": 79,
   "metadata": {
    "collapsed": false
   },
   "outputs": [
    {
     "data": {
      "text/html": [
       "<div>\n",
       "<table border=\"1\" class=\"dataframe\">\n",
       "  <thead>\n",
       "    <tr style=\"text-align: right;\">\n",
       "      <th></th>\n",
       "      <th>Crime_Type</th>\n",
       "    </tr>\n",
       "    <tr>\n",
       "      <th>Crime_Type</th>\n",
       "      <th></th>\n",
       "    </tr>\n",
       "  </thead>\n",
       "  <tbody>\n",
       "    <tr>\n",
       "      <th>AGG ASSAULT</th>\n",
       "      <td>1981</td>\n",
       "    </tr>\n",
       "    <tr>\n",
       "      <th>AUTO THEFT</th>\n",
       "      <td>3396</td>\n",
       "    </tr>\n",
       "    <tr>\n",
       "      <th>BURGLARY-NONRES</th>\n",
       "      <td>876</td>\n",
       "    </tr>\n",
       "    <tr>\n",
       "      <th>BURGLARY-RESIDENCE</th>\n",
       "      <td>3041</td>\n",
       "    </tr>\n",
       "    <tr>\n",
       "      <th>HOMICIDE</th>\n",
       "      <td>97</td>\n",
       "    </tr>\n",
       "    <tr>\n",
       "      <th>LARCENY-FROM VEHICLE</th>\n",
       "      <td>8861</td>\n",
       "    </tr>\n",
       "    <tr>\n",
       "      <th>LARCENY-NON VEHICLE</th>\n",
       "      <td>5898</td>\n",
       "    </tr>\n",
       "    <tr>\n",
       "      <th>RAPE</th>\n",
       "      <td>133</td>\n",
       "    </tr>\n",
       "    <tr>\n",
       "      <th>ROBBERY-COMMERCIAL</th>\n",
       "      <td>191</td>\n",
       "    </tr>\n",
       "    <tr>\n",
       "      <th>ROBBERY-PEDESTRIAN</th>\n",
       "      <td>1335</td>\n",
       "    </tr>\n",
       "    <tr>\n",
       "      <th>ROBBERY-RESIDENCE</th>\n",
       "      <td>191</td>\n",
       "    </tr>\n",
       "  </tbody>\n",
       "</table>\n",
       "</div>"
      ],
      "text/plain": [
       "                      Crime_Type\n",
       "Crime_Type                      \n",
       "AGG ASSAULT                 1981\n",
       "AUTO THEFT                  3396\n",
       "BURGLARY-NONRES              876\n",
       "BURGLARY-RESIDENCE          3041\n",
       "HOMICIDE                      97\n",
       "LARCENY-FROM VEHICLE        8861\n",
       "LARCENY-NON VEHICLE         5898\n",
       "RAPE                         133\n",
       "ROBBERY-COMMERCIAL           191\n",
       "ROBBERY-PEDESTRIAN          1335\n",
       "ROBBERY-RESIDENCE            191"
      ]
     },
     "execution_count": 79,
     "metadata": {},
     "output_type": "execute_result"
    }
   ],
   "source": [
    "df.groupby(\"Crime_Type\")[[\"Crime_Type\"]].count()"
   ]
  },
  {
   "cell_type": "code",
   "execution_count": null,
   "metadata": {
    "collapsed": true
   },
   "outputs": [],
   "source": [
    "#Feautre scaling"
   ]
  },
  {
   "cell_type": "code",
   "execution_count": 80,
   "metadata": {
    "collapsed": false
   },
   "outputs": [
    {
     "data": {
      "text/html": [
       "<div>\n",
       "<table border=\"1\" class=\"dataframe\">\n",
       "  <thead>\n",
       "    <tr style=\"text-align: right;\">\n",
       "      <th></th>\n",
       "      <th>location_type_2</th>\n",
       "      <th>location_type_3</th>\n",
       "      <th>location_type_4</th>\n",
       "      <th>location_type_5</th>\n",
       "      <th>location_type_6</th>\n",
       "      <th>location_type_9</th>\n",
       "      <th>location_type_10</th>\n",
       "      <th>location_type_11</th>\n",
       "      <th>location_type_12</th>\n",
       "      <th>location_type_13</th>\n",
       "      <th>...</th>\n",
       "      <th>grid_7</th>\n",
       "      <th>grid_8</th>\n",
       "      <th>grid_9</th>\n",
       "      <th>Weekday_6.0</th>\n",
       "      <th>num_victims_0</th>\n",
       "      <th>num_victims_1</th>\n",
       "      <th>num_victims_2</th>\n",
       "      <th>num_victims_3</th>\n",
       "      <th>num_victims_4</th>\n",
       "      <th>num_victims_5</th>\n",
       "    </tr>\n",
       "  </thead>\n",
       "  <tbody>\n",
       "    <tr>\n",
       "      <th>0</th>\n",
       "      <td>0.0</td>\n",
       "      <td>0.0</td>\n",
       "      <td>0.0</td>\n",
       "      <td>0.0</td>\n",
       "      <td>0.0</td>\n",
       "      <td>0.0</td>\n",
       "      <td>0.0</td>\n",
       "      <td>0.0</td>\n",
       "      <td>0.0</td>\n",
       "      <td>0.0</td>\n",
       "      <td>...</td>\n",
       "      <td>0.0</td>\n",
       "      <td>0.0</td>\n",
       "      <td>0.0</td>\n",
       "      <td>0.0</td>\n",
       "      <td>0.0</td>\n",
       "      <td>1.0</td>\n",
       "      <td>0.0</td>\n",
       "      <td>0.0</td>\n",
       "      <td>0.0</td>\n",
       "      <td>0.0</td>\n",
       "    </tr>\n",
       "    <tr>\n",
       "      <th>1</th>\n",
       "      <td>0.0</td>\n",
       "      <td>0.0</td>\n",
       "      <td>0.0</td>\n",
       "      <td>0.0</td>\n",
       "      <td>0.0</td>\n",
       "      <td>0.0</td>\n",
       "      <td>0.0</td>\n",
       "      <td>0.0</td>\n",
       "      <td>0.0</td>\n",
       "      <td>1.0</td>\n",
       "      <td>...</td>\n",
       "      <td>0.0</td>\n",
       "      <td>0.0</td>\n",
       "      <td>0.0</td>\n",
       "      <td>0.0</td>\n",
       "      <td>0.0</td>\n",
       "      <td>1.0</td>\n",
       "      <td>0.0</td>\n",
       "      <td>0.0</td>\n",
       "      <td>0.0</td>\n",
       "      <td>0.0</td>\n",
       "    </tr>\n",
       "    <tr>\n",
       "      <th>2</th>\n",
       "      <td>0.0</td>\n",
       "      <td>0.0</td>\n",
       "      <td>1.0</td>\n",
       "      <td>0.0</td>\n",
       "      <td>0.0</td>\n",
       "      <td>0.0</td>\n",
       "      <td>0.0</td>\n",
       "      <td>0.0</td>\n",
       "      <td>0.0</td>\n",
       "      <td>0.0</td>\n",
       "      <td>...</td>\n",
       "      <td>0.0</td>\n",
       "      <td>0.0</td>\n",
       "      <td>0.0</td>\n",
       "      <td>0.0</td>\n",
       "      <td>0.0</td>\n",
       "      <td>1.0</td>\n",
       "      <td>0.0</td>\n",
       "      <td>0.0</td>\n",
       "      <td>0.0</td>\n",
       "      <td>0.0</td>\n",
       "    </tr>\n",
       "    <tr>\n",
       "      <th>3</th>\n",
       "      <td>0.0</td>\n",
       "      <td>0.0</td>\n",
       "      <td>0.0</td>\n",
       "      <td>0.0</td>\n",
       "      <td>0.0</td>\n",
       "      <td>0.0</td>\n",
       "      <td>0.0</td>\n",
       "      <td>0.0</td>\n",
       "      <td>0.0</td>\n",
       "      <td>0.0</td>\n",
       "      <td>...</td>\n",
       "      <td>0.0</td>\n",
       "      <td>0.0</td>\n",
       "      <td>1.0</td>\n",
       "      <td>0.0</td>\n",
       "      <td>0.0</td>\n",
       "      <td>1.0</td>\n",
       "      <td>0.0</td>\n",
       "      <td>0.0</td>\n",
       "      <td>0.0</td>\n",
       "      <td>0.0</td>\n",
       "    </tr>\n",
       "    <tr>\n",
       "      <th>4</th>\n",
       "      <td>0.0</td>\n",
       "      <td>0.0</td>\n",
       "      <td>0.0</td>\n",
       "      <td>0.0</td>\n",
       "      <td>0.0</td>\n",
       "      <td>0.0</td>\n",
       "      <td>0.0</td>\n",
       "      <td>0.0</td>\n",
       "      <td>0.0</td>\n",
       "      <td>0.0</td>\n",
       "      <td>...</td>\n",
       "      <td>0.0</td>\n",
       "      <td>1.0</td>\n",
       "      <td>0.0</td>\n",
       "      <td>0.0</td>\n",
       "      <td>0.0</td>\n",
       "      <td>1.0</td>\n",
       "      <td>0.0</td>\n",
       "      <td>0.0</td>\n",
       "      <td>0.0</td>\n",
       "      <td>0.0</td>\n",
       "    </tr>\n",
       "  </tbody>\n",
       "</table>\n",
       "<p>5 rows × 50 columns</p>\n",
       "</div>"
      ],
      "text/plain": [
       "   location_type_2  location_type_3  location_type_4  location_type_5  \\\n",
       "0              0.0              0.0              0.0              0.0   \n",
       "1              0.0              0.0              0.0              0.0   \n",
       "2              0.0              0.0              1.0              0.0   \n",
       "3              0.0              0.0              0.0              0.0   \n",
       "4              0.0              0.0              0.0              0.0   \n",
       "\n",
       "   location_type_6  location_type_9  location_type_10  location_type_11  \\\n",
       "0              0.0              0.0               0.0               0.0   \n",
       "1              0.0              0.0               0.0               0.0   \n",
       "2              0.0              0.0               0.0               0.0   \n",
       "3              0.0              0.0               0.0               0.0   \n",
       "4              0.0              0.0               0.0               0.0   \n",
       "\n",
       "   location_type_12  location_type_13      ...        grid_7  grid_8  grid_9  \\\n",
       "0               0.0               0.0      ...           0.0     0.0     0.0   \n",
       "1               0.0               1.0      ...           0.0     0.0     0.0   \n",
       "2               0.0               0.0      ...           0.0     0.0     0.0   \n",
       "3               0.0               0.0      ...           0.0     0.0     1.0   \n",
       "4               0.0               0.0      ...           0.0     1.0     0.0   \n",
       "\n",
       "   Weekday_6.0  num_victims_0  num_victims_1  num_victims_2  num_victims_3  \\\n",
       "0          0.0            0.0            1.0            0.0            0.0   \n",
       "1          0.0            0.0            1.0            0.0            0.0   \n",
       "2          0.0            0.0            1.0            0.0            0.0   \n",
       "3          0.0            0.0            1.0            0.0            0.0   \n",
       "4          0.0            0.0            1.0            0.0            0.0   \n",
       "\n",
       "   num_victims_4  num_victims_5  \n",
       "0            0.0            0.0  \n",
       "1            0.0            0.0  \n",
       "2            0.0            0.0  \n",
       "3            0.0            0.0  \n",
       "4            0.0            0.0  \n",
       "\n",
       "[5 rows x 50 columns]"
      ]
     },
     "execution_count": 80,
     "metadata": {},
     "output_type": "execute_result"
    }
   ],
   "source": [
    "from sklearn.feature_selection import SelectKBest\n",
    "from sklearn.feature_selection import chi2\n",
    "X_f = df2.drop(['Crime_Type', \"incident_datetime\", 'incident_cord_x', 'incident_cord_y',\"data_type\"], axis=1)\n",
    "selector = SelectKBest(chi2, k=50)\n",
    "selector.fit(X_f, y)\n",
    "# Get idxs of columns to keep\n",
    "idxs_selected = selector.get_support(indices=True)\n",
    "# Create new dataframe with only desired columns, or overwrite existing\n",
    "X_new = X_f[idxs_selected]\n",
    "X_new.head()"
   ]
  },
  {
   "cell_type": "code",
   "execution_count": 81,
   "metadata": {
    "collapsed": false
   },
   "outputs": [
    {
     "data": {
      "text/plain": [
       "(Index(['location_type_2', 'location_type_3', 'location_type_4',\n",
       "        'location_type_5', 'location_type_6', 'location_type_9',\n",
       "        'location_type_10', 'location_type_11', 'location_type_12',\n",
       "        'location_type_13', 'location_type_14', 'location_type_15',\n",
       "        'location_type_16', 'location_type_17', 'location_type_18',\n",
       "        'location_type_20', 'location_type_22', 'location_type_27',\n",
       "        'location_type_28', 'location_type_29', 'location_type_30',\n",
       "        'location_type_31', 'location_type_32', 'location_type_33',\n",
       "        'Year_2039.0', 'Year_2042.0', 'Year_2043.0', 'Hour_3-6', 'Hour_6-9',\n",
       "        'Hour_9-12', 'Hour_12-15', 'Hour_15-18', 'Hour_18-21', 'Hour_21-24',\n",
       "        'grid_1', 'grid_2', 'grid_3', 'grid_4', 'grid_5', 'grid_6', 'grid_7',\n",
       "        'grid_8', 'grid_9', 'Weekday_6.0', 'num_victims_0', 'num_victims_1',\n",
       "        'num_victims_2', 'num_victims_3', 'num_victims_4', 'num_victims_5'],\n",
       "       dtype='object'), 50)"
      ]
     },
     "execution_count": 81,
     "metadata": {},
     "output_type": "execute_result"
    }
   ],
   "source": [
    "X_new.columns, len(X_new.columns)"
   ]
  },
  {
   "cell_type": "code",
   "execution_count": null,
   "metadata": {
    "collapsed": true
   },
   "outputs": [],
   "source": [
    "#Split Data set - training and test"
   ]
  },
  {
   "cell_type": "code",
   "execution_count": 83,
   "metadata": {
    "collapsed": false
   },
   "outputs": [],
   "source": [
    "#y_train = y_train.reset_index(drop = True)"
   ]
  },
  {
   "cell_type": "code",
   "execution_count": 84,
   "metadata": {
    "collapsed": false
   },
   "outputs": [],
   "source": [
    "#df_maj = pd.concat([pd.DataFrame(X_train, columns=list(X_train.columns)), pd.Series(y_train)], axis =1)\n",
    "#df_maj1 =  df_maj.loc[(df_maj.Crime_Type == 0) | (df_maj.Crime_Type == 1)| (df_maj.Crime_Type == 3)| (df_maj.Crime_Type == 5) | (df_maj.Crime_Type == 6)]\n",
    "#df_maj1\n",
    "from sklearn.model_selection import train_test_split\n",
    "X_train1, X_test, y_train1, y_test = train_test_split(df_maj1.drop([\"Crime_Type\"], axis =1 ),\n",
    "                                                    df_maj1.Crime_Type, test_size=0.30, random_state=101)\n",
    "X_train.shape, y_train.shape, X_test.shape, y_test.shape"
   ]
  },
  {
   "cell_type": "code",
   "execution_count": 85,
   "metadata": {
    "collapsed": false
   },
   "outputs": [
    {
     "data": {
      "text/plain": [
       "((18200, 50), (18200,), (7800, 50), (7800,))"
      ]
     },
     "execution_count": 85,
     "metadata": {},
     "output_type": "execute_result"
    }
   ],
   "source": [
    "from sklearn.model_selection import train_test_split\n",
    "X_train, X_test, y_train, y_test = train_test_split(X_new,\n",
    "                                                    df2.Crime_Type, test_size=0.30, random_state=101)\n",
    "X_train.shape, y_train.shape, X_test.shape, y_test.shape"
   ]
  },
  {
   "cell_type": "code",
   "execution_count": null,
   "metadata": {
    "collapsed": true
   },
   "outputs": [],
   "source": [
    "#Scaling"
   ]
  },
  {
   "cell_type": "code",
   "execution_count": 54,
   "metadata": {
    "collapsed": false
   },
   "outputs": [],
   "source": [
    "#\n",
    "#from sklearn.preprocessing import StandardScaler\n",
    "#sc = StandardScaler(copy=True, with_mean=True, with_std=True)\n",
    "#X_train = sc.fit_transform(X_train)\n",
    "#X_test = sc.fit_transform(X_test)"
   ]
  },
  {
   "cell_type": "code",
   "execution_count": null,
   "metadata": {
    "collapsed": true
   },
   "outputs": [],
   "source": [
    "#final chose model"
   ]
  },
  {
   "cell_type": "code",
   "execution_count": 87,
   "metadata": {
    "collapsed": true
   },
   "outputs": [],
   "source": [
    "from sklearn.model_selection import StratifiedKFold,RandomizedSearchCV\n",
    "from sklearn.metrics import classification_report, confusion_matrix\n",
    "import xgboost as xgb"
   ]
  },
  {
   "cell_type": "code",
   "execution_count": 88,
   "metadata": {
    "collapsed": false
   },
   "outputs": [],
   "source": [
    "clf_xgb1 = xgb.XGBClassifier(max_depth = 7, learning_rate= 0.16, n_estimators= 25, nthread=14)"
   ]
  },
  {
   "cell_type": "code",
   "execution_count": 90,
   "metadata": {
    "collapsed": false
   },
   "outputs": [
    {
     "name": "stdout",
     "output_type": "stream",
     "text": [
      "0.514871794872\n"
     ]
    }
   ],
   "source": [
    "#clf_xgb1 = RandomizedSearchCV(clf_xgb1,param,refit=True,cv=3)\n",
    "clf_xgb1.fit(X_train,y_train)\n",
    "predictions_xgb1 = clf_xgb1.predict(X_test)\n",
    "print(accuracy_score(y_test, predictions_xgb1))\n",
    "#print(clf_xgb1.best-estimator_)"
   ]
  },
  {
   "cell_type": "code",
   "execution_count": 282,
   "metadata": {
    "collapsed": false
   },
   "outputs": [
    {
     "data": {
      "text/plain": [
       "array([ 0.51285008,  0.51359815,  0.50437077])"
      ]
     },
     "execution_count": 282,
     "metadata": {},
     "output_type": "execute_result"
    }
   ],
   "source": [
    "# Kfold\n",
    "from sklearn.model_selection import cross_val_score\n",
    "accuracies = cross_val_score(estimator = clf_xgb1, X = X_train, y = y_train, cv = 3)\n",
    "accuracies"
   ]
  },
  {
   "cell_type": "code",
   "execution_count": null,
   "metadata": {
    "collapsed": true
   },
   "outputs": [],
   "source": [
    "#predicting on test"
   ]
  },
  {
   "cell_type": "code",
   "execution_count": 26,
   "metadata": {
    "collapsed": false
   },
   "outputs": [],
   "source": [
    "col_sel = list(X_test.columns)"
   ]
  },
  {
   "cell_type": "code",
   "execution_count": 27,
   "metadata": {
    "collapsed": false
   },
   "outputs": [],
   "source": [
    "df_eval = df_master[col_sel][df_master.data_type ==  \"Test data\"]"
   ]
  },
  {
   "cell_type": "code",
   "execution_count": 28,
   "metadata": {
    "collapsed": false
   },
   "outputs": [
    {
     "data": {
      "text/plain": [
       "(Index(['location_type_3', 'location_type_4', 'location_type_5',\n",
       "        'location_type_6', 'location_type_10', 'location_type_11',\n",
       "        'location_type_12', 'location_type_13', 'location_type_14',\n",
       "        'location_type_15', 'location_type_16', 'location_type_17',\n",
       "        'location_type_22', 'location_type_27', 'location_type_28',\n",
       "        'location_type_29', 'location_type_30', 'location_type_31',\n",
       "        'location_type_32', 'location_type_33', 'Year_2039.0', 'Year_2042.0',\n",
       "        'Hour_3-6', 'Hour_6-9', 'Hour_9-12', 'Hour_12-15', 'Hour_15-18',\n",
       "        'Hour_21-24', 'grid_1', 'grid_3', 'grid_5', 'grid_7', 'grid_9',\n",
       "        'grid_11', 'grid_12', 'grid_14', 'grid_17', 'grid_18', 'grid_19',\n",
       "        'grid_20', 'grid_21', 'grid_22', 'grid_23', 'grid_24', 'grid_25',\n",
       "        'grid_29', 'num_victims_1', 'num_victims_2', 'num_victims_3',\n",
       "        'num_victims_4'],\n",
       "       dtype='object'), (2000, 50))"
      ]
     },
     "execution_count": 28,
     "metadata": {},
     "output_type": "execute_result"
    }
   ],
   "source": [
    "df_eval.columns, df_eval.shape"
   ]
  },
  {
   "cell_type": "code",
   "execution_count": 30,
   "metadata": {
    "collapsed": false
   },
   "outputs": [
    {
     "data": {
      "text/plain": [
       "array([0, 3, 1, ..., 5, 3, 5])"
      ]
     },
     "execution_count": 30,
     "metadata": {},
     "output_type": "execute_result"
    }
   ],
   "source": [
    "y_eval = clf_xgb1.predict(df_eval)\n",
    "y_eval"
   ]
  },
  {
   "cell_type": "code",
   "execution_count": 35,
   "metadata": {
    "collapsed": false
   },
   "outputs": [],
   "source": [
    "final_result = pd.DataFrame(y_eval , columns= [\"y_eval\"])"
   ]
  },
  {
   "cell_type": "code",
   "execution_count": 36,
   "metadata": {
    "collapsed": true
   },
   "outputs": [],
   "source": [
    "final_result.to_csv(\"final_result.csv\")"
   ]
  },
  {
   "cell_type": "markdown",
   "metadata": {},
   "source": [
    "# MODELS"
   ]
  },
  {
   "cell_type": "code",
   "execution_count": 330,
   "metadata": {
    "collapsed": true
   },
   "outputs": [],
   "source": [
    "#Decision Tree"
   ]
  },
  {
   "cell_type": "code",
   "execution_count": 92,
   "metadata": {
    "collapsed": false
   },
   "outputs": [
    {
     "data": {
      "text/plain": [
       "0.49717948717948718"
      ]
     },
     "execution_count": 92,
     "metadata": {},
     "output_type": "execute_result"
    }
   ],
   "source": [
    "from sklearn.tree import DecisionTreeClassifier\n",
    "from sklearn.metrics import accuracy_score\n",
    "clf = DecisionTreeClassifier(min_samples_split=15, max_depth= 15)\n",
    "clf.fit(X_train, y_train)\n",
    "y_predict_dt = clf.predict(X_test)\n",
    "accuracy_score(y_test, y_predict_dt)"
   ]
  },
  {
   "cell_type": "code",
   "execution_count": null,
   "metadata": {
    "collapsed": true
   },
   "outputs": [],
   "source": [
    "from sklearn.metrics import classification_report\n",
    "target_names = ['class 0', 'class 1', 'class 2','class 3', 'class 4', 'class 5','class 6', 'class 7', 'class 8','class 9', 'class 10']\n",
    "print(classification_report(y_test, y_predict_dt, target_names=target_names, digits=4))"
   ]
  },
  {
   "cell_type": "code",
   "execution_count": 333,
   "metadata": {
    "collapsed": true
   },
   "outputs": [],
   "source": [
    "#KNN"
   ]
  },
  {
   "cell_type": "code",
   "execution_count": 182,
   "metadata": {
    "collapsed": false
   },
   "outputs": [
    {
     "data": {
      "text/plain": [
       "0.443974358974359"
      ]
     },
     "execution_count": 182,
     "metadata": {},
     "output_type": "execute_result"
    }
   ],
   "source": [
    "from sklearn.neighbors import KNeighborsClassifier\n",
    "neigh = KNeighborsClassifier(n_neighbors=5)\n",
    "neigh.fit(X_train, y_train)\n",
    "y_predict_knn = neigh.predict(X_test)\n",
    "accuracy_score(y_test, y_predict_knn)"
   ]
  },
  {
   "cell_type": "code",
   "execution_count": null,
   "metadata": {
    "collapsed": true
   },
   "outputs": [],
   "source": [
    "target_names = ['class 0', 'class 1', 'class 2','class 3', 'class 4', 'class 5','class 6', 'class 7', 'class 8','class 9', 'class 10']\n",
    "print(classification_report(y_test, y_predict_knn, target_names=target_names, digits=4))"
   ]
  },
  {
   "cell_type": "code",
   "execution_count": 337,
   "metadata": {
    "collapsed": true
   },
   "outputs": [],
   "source": [
    "#Randon forest"
   ]
  },
  {
   "cell_type": "code",
   "execution_count": 183,
   "metadata": {
    "collapsed": false
   },
   "outputs": [
    {
     "data": {
      "text/plain": [
       "0.50192307692307692"
      ]
     },
     "execution_count": 183,
     "metadata": {},
     "output_type": "execute_result"
    }
   ],
   "source": [
    "from sklearn.ensemble import RandomForestClassifier\n",
    "from sklearn.datasets import make_classification\n",
    "rf = RandomForestClassifier(max_depth=10, random_state=0)\n",
    "rf.fit(X_train, y_train)\n",
    "y_predict_rf  = rf.predict(X_test)\n",
    "accuracy_score(y_test, y_predict_rf)"
   ]
  },
  {
   "cell_type": "code",
   "execution_count": null,
   "metadata": {
    "collapsed": true
   },
   "outputs": [],
   "source": [
    "# Kernel SVM"
   ]
  },
  {
   "cell_type": "code",
   "execution_count": 51,
   "metadata": {
    "collapsed": false
   },
   "outputs": [
    {
     "data": {
      "text/plain": [
       "0.50948717948717948"
      ]
     },
     "execution_count": 51,
     "metadata": {},
     "output_type": "execute_result"
    }
   ],
   "source": [
    "from sklearn.svm import SVC\n",
    "clf_kcv = SVC(kernel = 'rbf', random_state = 0)\n",
    "#clf_kcv = RandomizedSearchCV(classifier,param,refit=True,cv=3)\n",
    "clf_kcv.fit(X_train,y_train)\n",
    "predictions_kcv = clf_kcv.predict(X_test)\n",
    "accuracy_score(y_test, predictions_kcv)"
   ]
  },
  {
   "cell_type": "code",
   "execution_count": 386,
   "metadata": {
    "collapsed": true
   },
   "outputs": [],
   "source": [
    "#SVC"
   ]
  },
  {
   "cell_type": "code",
   "execution_count": 52,
   "metadata": {
    "collapsed": false
   },
   "outputs": [
    {
     "data": {
      "text/plain": [
       "0.50538461538461543"
      ]
     },
     "execution_count": 52,
     "metadata": {},
     "output_type": "execute_result"
    }
   ],
   "source": [
    "from sklearn.svm import LinearSVC\n",
    "from sklearn.datasets import make_classification\n",
    "\n",
    "clf_lsvc = LinearSVC(random_state=0)\n",
    "clf_lsvc.fit(X_train, y_train)\n",
    "LinearSVC(C=1.0, class_weight=None, dual=True, fit_intercept=True,\n",
    "     intercept_scaling=1, loss='squared_hinge', max_iter=1000,\n",
    "     multi_class='ovr', penalty='24', random_state=0, tol=0.0001,\n",
    "     verbose=0)\n",
    "predict_svc  = clf_lsvc.predict(X_test)\n",
    "accuracy_score(y_test, predict_svc)"
   ]
  },
  {
   "cell_type": "code",
   "execution_count": null,
   "metadata": {
    "collapsed": true
   },
   "outputs": [],
   "source": [
    "print(classification_report(y_test, predict_svc, target_names=target_names, digits=4))"
   ]
  },
  {
   "cell_type": "code",
   "execution_count": 440,
   "metadata": {
    "collapsed": true
   },
   "outputs": [],
   "source": [
    "#XGB"
   ]
  },
  {
   "cell_type": "code",
   "execution_count": 161,
   "metadata": {
    "collapsed": false
   },
   "outputs": [
    {
     "data": {
      "text/plain": [
       "0.50525641025641022"
      ]
     },
     "execution_count": 161,
     "metadata": {},
     "output_type": "execute_result"
    }
   ],
   "source": [
    "from xgboost import XGBClassifier\n",
    "from sklearn.model_selection import train_test_split\n",
    "from sklearn.metrics import accuracy_score\n",
    "\n",
    "clf_xgb = XGBClassifier()\n",
    "clf_xgb.fit(X_train, y_train)\n",
    "predict_xgb = clf_xgb.predict(X_test)\n",
    "accuracy_score(y_test, predict_xgb)"
   ]
  },
  {
   "cell_type": "code",
   "execution_count": null,
   "metadata": {
    "collapsed": true
   },
   "outputs": [],
   "source": [
    "#ADA"
   ]
  },
  {
   "cell_type": "code",
   "execution_count": 162,
   "metadata": {
    "collapsed": false
   },
   "outputs": [
    {
     "data": {
      "text/plain": [
       "0.4785897435897436"
      ]
     },
     "execution_count": 162,
     "metadata": {},
     "output_type": "execute_result"
    }
   ],
   "source": [
    "from xgboost import XGBClassifier\n",
    "from sklearn.model_selection import train_test_split\n",
    "from sklearn.metrics import accuracy_score\n",
    "from sklearn.ensemble import AdaBoostClassifier\n",
    "\n",
    "clf_ada = AdaBoostClassifier(base_estimator=DecisionTreeClassifier(), n_estimators=200, learning_rate=0.75, random_state=101)\n",
    "clf_ada.fit(X_train, y_train)\n",
    "predict_ada = clf_ada.predict(X_test)\n",
    "\n",
    "accuracy_score(y_test, predict_ada)"
   ]
  },
  {
   "cell_type": "code",
   "execution_count": 164,
   "metadata": {
    "collapsed": false
   },
   "outputs": [
    {
     "name": "stdout",
     "output_type": "stream",
     "text": [
      "[0]\ttrain-mlogloss:1.76783\teval-mlogloss:1.76862\n",
      "[1]\ttrain-mlogloss:1.50695\teval-mlogloss:1.50911\n",
      "[2]\ttrain-mlogloss:1.437\teval-mlogloss:1.44295\n",
      "[3]\ttrain-mlogloss:1.40717\teval-mlogloss:1.4171\n",
      "[4]\ttrain-mlogloss:1.39275\teval-mlogloss:1.40459\n",
      "[5]\ttrain-mlogloss:1.38511\teval-mlogloss:1.39854\n",
      "[6]\ttrain-mlogloss:1.38045\teval-mlogloss:1.39489\n",
      "[7]\ttrain-mlogloss:1.37787\teval-mlogloss:1.39367\n",
      "[8]\ttrain-mlogloss:1.37638\teval-mlogloss:1.39415\n",
      "[9]\ttrain-mlogloss:1.37527\teval-mlogloss:1.39281\n",
      "[10]\ttrain-mlogloss:1.37453\teval-mlogloss:1.39393\n",
      "[11]\ttrain-mlogloss:1.37416\teval-mlogloss:1.39387\n",
      "[12]\ttrain-mlogloss:1.37364\teval-mlogloss:1.39374\n",
      "[13]\ttrain-mlogloss:1.37338\teval-mlogloss:1.39403\n",
      "[14]\ttrain-mlogloss:1.37311\teval-mlogloss:1.39405\n",
      "[15]\ttrain-mlogloss:1.37282\teval-mlogloss:1.39411\n",
      "[16]\ttrain-mlogloss:1.37261\teval-mlogloss:1.39511\n",
      "[17]\ttrain-mlogloss:1.37244\teval-mlogloss:1.39537\n",
      "[18]\ttrain-mlogloss:1.37224\teval-mlogloss:1.39558\n",
      "[19]\ttrain-mlogloss:1.37201\teval-mlogloss:1.39586\n",
      "[20]\ttrain-mlogloss:1.37183\teval-mlogloss:1.39592\n",
      "[21]\ttrain-mlogloss:1.37163\teval-mlogloss:1.39586\n"
     ]
    }
   ],
   "source": [
    "import xgboost as xgb\n",
    "dtrain = xgb.DMatrix(X_train, label=y_train)\n",
    "dtest = xgb.DMatrix(X_test, label=y_test)\n",
    "\n",
    "num_class = 11\n",
    "\n",
    "param = set_param()\n",
    "watchlist = [ (dtrain,'train'), (dtest, 'eval') ]\n",
    "num_round = 22\n",
    "\n",
    "# Train XGBoost    \n",
    "bst = xgb.train(param, dtrain, num_round, watchlist);\n",
    "yprob = bst.predict(dtest).reshape( y_test.shape[0], num_class)\n",
    "ylabel = np.argmax(yprob, axis=1)"
   ]
  },
  {
   "cell_type": "code",
   "execution_count": 166,
   "metadata": {
    "collapsed": false
   },
   "outputs": [
    {
     "data": {
      "text/plain": [
       "0.50397435897435894"
      ]
     },
     "execution_count": 166,
     "metadata": {},
     "output_type": "execute_result"
    }
   ],
   "source": [
    "accuracy_score(y_test, ylabel)"
   ]
  },
  {
   "cell_type": "code",
   "execution_count": null,
   "metadata": {
    "collapsed": true
   },
   "outputs": [],
   "source": [
    "#Gridsearch cv"
   ]
  },
  {
   "cell_type": "code",
   "execution_count": 21,
   "metadata": {
    "collapsed": true
   },
   "outputs": [],
   "source": [
    "from sklearn.model_selection import StratifiedKFold,RandomizedSearchCV\n",
    "from sklearn.metrics import classification_report, confusion_matrix\n",
    "import xgboost as xgb"
   ]
  },
  {
   "cell_type": "code",
   "execution_count": 130,
   "metadata": {
    "collapsed": false
   },
   "outputs": [],
   "source": [
    "clf_xgb1 = xgb.XGBClassifier(max_depth = 7, learning_rate= 0.16, n_estimators= 25, nthread=14)"
   ]
  },
  {
   "cell_type": "code",
   "execution_count": 36,
   "metadata": {
    "collapsed": false
   },
   "outputs": [],
   "source": [
    "param = {'max_depth': [3,  5, 10, 12]  , 'learning_rate' :[0.1, 0.14, .16, 0.17]\n",
    "         , 'n_estimators' : [20,25,150,250],\n",
    "        'nthread' : [16],\n",
    "        \"max_delta_step\": [0,1]}"
   ]
  },
  {
   "cell_type": "code",
   "execution_count": 144,
   "metadata": {
    "collapsed": false
   },
   "outputs": [
    {
     "name": "stdout",
     "output_type": "stream",
     "text": [
      "0.519743589744\n"
     ]
    }
   ],
   "source": [
    "clf_xgb1 = RandomizedSearchCV(clf_xgb1,param,refit=True,cv=3)\n",
    "clf_xgb1.fit(X_train,y_train)\n",
    "predictions_xgb1 = clf_xgb1.predict(X_test)\n",
    "print(accuracy_score(y_test, predictions_xgb1))\n",
    "#print(clf_xgb1.best-estimator_)"
   ]
  },
  {
   "cell_type": "code",
   "execution_count": 145,
   "metadata": {
    "collapsed": false
   },
   "outputs": [
    {
     "data": {
      "text/plain": [
       "array([ 0.51285008,  0.51359815,  0.50437077])"
      ]
     },
     "execution_count": 145,
     "metadata": {},
     "output_type": "execute_result"
    }
   ],
   "source": [
    "# Kfold\n",
    "from sklearn.model_selection import cross_val_score\n",
    "accuracies = cross_val_score(estimator = clf_xgb1, X = X_train, y = y_train, cv = 3)\n",
    "accuracies"
   ]
  },
  {
   "cell_type": "code",
   "execution_count": null,
   "metadata": {
    "collapsed": true
   },
   "outputs": [],
   "source": [
    "print(classification_report(y_test,  predictions_xgfb_cv, target_names=target_names, digits=4))"
   ]
  },
  {
   "cell_type": "code",
   "execution_count": 71,
   "metadata": {
    "collapsed": false
   },
   "outputs": [],
   "source": [
    "from sklearn.neural_network import MLPClassifier\n",
    "\n",
    "clf = MLPClassifier(solver='adam',learning_rate = 'adaptive',learning_rate_init= 0.005,\n",
    "                    hidden_layer_sizes=(50, 3), random_state=1, activation = \"identity\")\n",
    "#print(clf.fit(X, y))  "
   ]
  },
  {
   "cell_type": "code",
   "execution_count": 72,
   "metadata": {
    "collapsed": false
   },
   "outputs": [
    {
     "data": {
      "text/plain": [
       "MLPClassifier(activation='identity', alpha=0.0001, batch_size='auto',\n",
       "       beta_1=0.9, beta_2=0.999, early_stopping=False, epsilon=1e-08,\n",
       "       hidden_layer_sizes=(50, 3), learning_rate='adaptive',\n",
       "       learning_rate_init=0.005, max_iter=200, momentum=0.9,\n",
       "       nesterovs_momentum=True, power_t=0.5, random_state=1, shuffle=True,\n",
       "       solver='adam', tol=0.0001, validation_fraction=0.1, verbose=False,\n",
       "       warm_start=False)"
      ]
     },
     "execution_count": 72,
     "metadata": {},
     "output_type": "execute_result"
    }
   ],
   "source": [
    "clf.fit(X_train, y_train)"
   ]
  },
  {
   "cell_type": "code",
   "execution_count": 73,
   "metadata": {
    "collapsed": true
   },
   "outputs": [],
   "source": [
    "y_mlp = clf.predict(X_test)"
   ]
  },
  {
   "cell_type": "code",
   "execution_count": 74,
   "metadata": {
    "collapsed": false
   },
   "outputs": [
    {
     "data": {
      "text/plain": [
       "0.49769230769230771"
      ]
     },
     "execution_count": 74,
     "metadata": {},
     "output_type": "execute_result"
    }
   ],
   "source": [
    "accuracy_score(y_test, y_mlp)"
   ]
  },
  {
   "cell_type": "markdown",
   "metadata": {
    "collapsed": true
   },
   "source": [
    "# ANN"
   ]
  },
  {
   "cell_type": "code",
   "execution_count": 24,
   "metadata": {
    "collapsed": false
   },
   "outputs": [
    {
     "name": "stderr",
     "output_type": "stream",
     "text": [
      "Using TensorFlow backend.\n"
     ]
    }
   ],
   "source": [
    "#importing modules\n",
    "import keras\n",
    "from keras.models import Sequential\n",
    "from keras.layers import Dense\n",
    "from keras.utils import np_utils"
   ]
  },
  {
   "cell_type": "code",
   "execution_count": 25,
   "metadata": {
    "collapsed": true
   },
   "outputs": [],
   "source": [
    "from sklearn.preprocessing import StandardScaler\n",
    "sc = StandardScaler(copy=True, with_mean=True, with_std=True)\n",
    "X_train = sc.fit_transform(X_train)\n",
    "X_test = sc.fit_transform(X_test)"
   ]
  },
  {
   "cell_type": "code",
   "execution_count": 26,
   "metadata": {
    "collapsed": false
   },
   "outputs": [],
   "source": [
    "#y = np_utils.to_categorical([y_train])\n",
    "y = labelencoder_Y.fit_transform(y_train)\n",
    "y = np_utils.to_categorical(y)"
   ]
  },
  {
   "cell_type": "code",
   "execution_count": 27,
   "metadata": {
    "collapsed": false
   },
   "outputs": [
    {
     "data": {
      "text/plain": [
       "(18200, 30)"
      ]
     },
     "execution_count": 27,
     "metadata": {},
     "output_type": "execute_result"
    }
   ],
   "source": [
    "X_train.shape"
   ]
  },
  {
   "cell_type": "code",
   "execution_count": 28,
   "metadata": {
    "collapsed": true
   },
   "outputs": [],
   "source": [
    "classifier = Sequential()"
   ]
  },
  {
   "cell_type": "code",
   "execution_count": 29,
   "metadata": {
    "collapsed": false
   },
   "outputs": [],
   "source": [
    "#adding first hidden layer\n",
    "classifier.add(Dense (output_dim = 40, init = \"uniform\", activation= \"relu\", input_dim= 30, ))\n",
    "#adding Third hidden layer\n",
    "classifier.add(Dense (output_dim = 40, init = \"uniform\", activation= \"relu\"))\n",
    "#adding Third hidden layer\n",
    "classifier.add(Dense (output_dim = 40, init = \"uniform\", activation= \"relu\"))\n",
    "#adding final\n",
    "classifier.add(Dense (output_dim = 11, init = \"uniform\", activation= \"softmax\"))\n",
    "#compile\n",
    "classifier.compile(optimizer = 'adam' , loss = 'categorical_crossentropy', metrics = ['accuracy'])"
   ]
  },
  {
   "cell_type": "code",
   "execution_count": 30,
   "metadata": {
    "collapsed": true
   },
   "outputs": [],
   "source": [
    "#X_train = np.array(X_train)\n",
    "#Fitting the ANN to the traning set\n",
    "#classifier.fit(X_train,y,batch_size = 25 ,nb_epoch=25)"
   ]
  },
  {
   "cell_type": "code",
   "execution_count": 48,
   "metadata": {
    "collapsed": false
   },
   "outputs": [
    {
     "data": {
      "text/plain": [
       "0.50923076923076926"
      ]
     },
     "execution_count": 48,
     "metadata": {},
     "output_type": "execute_result"
    }
   ],
   "source": [
    "y_pred = classifier.predict(np.array(X_test))\n",
    "X = []\n",
    "for i in range(0, len(y_pred)):\n",
    "    X =  X + [np.argmax(y_pred[i])]\n",
    "s1 = pd.Series(X)\n",
    "s2 =pd.Series(y_test)\n",
    "accuracy_score(s2, s1)"
   ]
  },
  {
   "cell_type": "code",
   "execution_count": null,
   "metadata": {
    "collapsed": true
   },
   "outputs": [],
   "source": [
    "#Voting"
   ]
  },
  {
   "cell_type": "code",
   "execution_count": 57,
   "metadata": {
    "collapsed": false
   },
   "outputs": [
    {
     "name": "stdout",
     "output_type": "stream",
     "text": [
      "[3 5 5 ..., 5 6 3]\n"
     ]
    }
   ],
   "source": [
    "import numpy as np\n",
    "from sklearn.ensemble import RandomForestClassifier, VotingClassifier\n",
    "eclf = VotingClassifier(estimators=[('dt', clf), ('rf', rf),('kcv', clf_kcv)],\n",
    "voting='hard', weights=[1,1,1],flatten_transform=True)\n",
    "eclf = eclf.fit(X_train, y_train)\n",
    "print(eclf.predict(X_test))"
   ]
  },
  {
   "cell_type": "code",
   "execution_count": 58,
   "metadata": {
    "collapsed": false
   },
   "outputs": [
    {
     "data": {
      "text/plain": [
       "0.50705128205128203"
      ]
     },
     "execution_count": 58,
     "metadata": {},
     "output_type": "execute_result"
    }
   ],
   "source": [
    "y_vote = eclf.predict(X_test)\n",
    "accuracy_score(y_vote, y_test)"
   ]
  },
  {
   "cell_type": "code",
   "execution_count": null,
   "metadata": {
    "collapsed": true
   },
   "outputs": [],
   "source": []
  },
  {
   "cell_type": "code",
   "execution_count": null,
   "metadata": {
    "collapsed": true
   },
   "outputs": [],
   "source": []
  },
  {
   "cell_type": "markdown",
   "metadata": {},
   "source": [
    "# Archive"
   ]
  },
  {
   "cell_type": "code",
   "execution_count": null,
   "metadata": {
    "collapsed": true
   },
   "outputs": [],
   "source": [
    "'''\n",
    "def x_grid(row, Range_x, Min_x, X_grid ):\n",
    "    for i in range(1,len(X_grid) + 1):\n",
    "        if row['incident_cord_x'] <= (Min_x + (Range_x*(i)/16)) and row['incident_cord_x'] >= (Min_x + (Range_x*(i-1)/16)):\n",
    "            return X_grid[i-1]\n",
    "\n",
    "        \n",
    "def y_grid(row, Range_y, Min_y, Y_grid ):\n",
    "    for i in range(1,len(Y_grid) + 1):\n",
    "        if row['incident_cord_y'] <= (Min_y + (Range_y*(i)/16)) and row['incident_cord_y'] >= (Min_y + (Range_y*(i-1)/16)):\n",
    "            return Y_grid[i-1]\n",
    "\n",
    "        \n",
    "X_grid = [\"A\", \"B\", \"C\", \"D\", \"E\", \"F\", \"G\", \"H\", \"I\", \"J\", \"K\", \"L\", \"M\", \"N\"]\n",
    "Range_x = max(df.incident_cord_x) - min(df.incident_cord_x[df.incident_cord_x != 0])\n",
    "Min_x = min(df.incident_cord_x[df.incident_cord_x != 0])\n",
    "\n",
    "Y_grid = [1,2,3,4,5,6,7,8,9,10,11,12,13,14]\n",
    "Range_y = max(df.incident_cord_y[df.incident_cord_y != 0]) - min(df.incident_cord_y[df.incident_cord_y != 0])\n",
    "Min_y = min(df.incident_cord_y[df.incident_cord_y != 0])\n",
    "\n",
    "df['x_grid'] = df.apply(lambda x: x_grid(x,Range_x, Min_x, X_grid ), axis=1)\n",
    "df[\"y_grid\"] = df.apply(lambda x: y_grid(x, Range_y, Min_y, Y_grid ), axis=1)\n",
    "\n",
    "df[\"grid\"] = df.x_grid + df.y_grid.map(str)\n",
    "'''"
   ]
  },
  {
   "cell_type": "code",
   "execution_count": null,
   "metadata": {
    "collapsed": true
   },
   "outputs": [],
   "source": [
    "'''#HOMICIDE, RAPE, ROBBERY-COMMERCIAL, ROBBERY-RESIDENCE\n",
    "\n",
    "from sklearn.utils import resample\n",
    "# Upsample minority class\n",
    "def sampling(X_train, y_train):\n",
    "    df_train_temp = X_train\n",
    "    df_train_temp['Crime_Type'] = y_train\n",
    "    df_minority6 = df_train_temp[df_train_temp.Crime_Type == 6]\n",
    "    df_minority7 = df_train_temp[df_train_temp.Crime_Type == 7]\n",
    "    df_minority9 = df_train_temp[df_train_temp.Crime_Type == 9]\n",
    "\n",
    "    df_minority0 = df_train_temp[df_train_temp.Crime_Type == 0]\n",
    "    df_minority2 = df_train_temp[df_train_temp.Crime_Type == 2]\n",
    "    df_minority8 = df_train_temp[df_train_temp.Crime_Type == 8]\n",
    "\n",
    "    df_minority1 = df_train_temp[df_train_temp.Crime_Type == 1]\n",
    "    df_minority3 = df_train_temp[df_train_temp.Crime_Type == 3]\n",
    "    df_minority4 = df_train_temp[df_train_temp.Crime_Type == 4]\n",
    "    df_minority10 = df_train_temp[df_train_temp.Crime_Type == 10]\n",
    "\n",
    "    df_minority_undersampled0 = resample(df_minority0, \n",
    "                                 replace=True,     # sample with replacement\n",
    "                                 n_samples=1000,    # to match majority class 100% of majority class\n",
    "                                 random_state=123) # reproducible results\n",
    "\n",
    "    df_minority_undersampled2 = resample(df_minority2, \n",
    "                                 replace=True,     # sample with replacement\n",
    "                                 n_samples=801*1,    # to match majority class 100% of majority class\n",
    "                                 random_state=123) # reproducible results\n",
    "\n",
    "    df_minority_undersampled4 = resample(df_minority4, \n",
    "                                 replace=True,     # sample with replacement\n",
    "                                 n_samples= 100,    # to match majority class 100% of majority class\n",
    "                                 random_state=123) # reproducible results\n",
    " \n",
    "    df_minority_undersampled7 = resample(df_minority7, \n",
    "                                 replace=True,     # sample with replacement\n",
    "                                 n_samples= 100,    # to match majority class 100% of majority class\n",
    "                                 random_state=123) # reproducible results\n",
    "    df_minority_undersampled8 = resample(df_minority8, \n",
    "                                 replace=True,     # sample with replacement\n",
    "                                 n_samples= 100,    # to match majority class 100% of majority class\n",
    "                                 random_state=123) # reproducible results\n",
    "    df_minority_undersampled9 = resample(df_minority9, \n",
    "                                 replace=True,     # sample with replacement\n",
    "                                 n_samples= 700,    # to match majority class 100% of majority class\n",
    "                                 random_state=123) # reproducible results\n",
    "    df_minority_undersampled10 = resample(df_minority10, \n",
    "                                 replace=True,     # sample with replacement\n",
    "                                 n_samples= 100,    # to match majority class 100% of majority class\n",
    "                                 random_state=123) # reproducible results\n",
    "\n",
    "    # Combine majority class with upsampled minority class\n",
    "    df_minority = pd.concat([df_train_temp, df_minority_undersampled0, df_minority_undersampled2, df_minority_undersampled4,\n",
    "                            df_minority_undersampled7, df_minority_undersampled8, df_minority_undersampled9,df_minority_undersampled10])\n",
    "    X_train = df_minority.drop(['Crime_Type']\n",
    "    #y_train = df_minority.Crime_Type                         \n",
    "    return print(\"a\")'''"
   ]
  },
  {
   "cell_type": "code",
   "execution_count": null,
   "metadata": {
    "collapsed": true
   },
   "outputs": [],
   "source": [
    "'''from sklearn.naive_bayes import GaussianNB\n",
    "NB = GaussianNB()\n",
    "NB.fit(X_train, y_train)\n",
    "GaussianNB(priors=None)\n",
    "y_predict_nb = NB.predict(X_test)\n",
    "accuracy_score(y_test, y_predict_nb)'''"
   ]
  },
  {
   "cell_type": "code",
   "execution_count": null,
   "metadata": {
    "collapsed": true
   },
   "outputs": [],
   "source": [
    "'''from sklearn.discriminant_analysis import QuadraticDiscriminantAnalysis\n",
    "import numpy as np\n",
    "qda = QuadraticDiscriminantAnalysis()\n",
    "qda.fit(X_train, y_train)\n",
    "QuadraticDiscriminantAnalysis(priors=None, reg_param=0.0,\n",
    "                              store_covariance=False,\n",
    "                              store_covariances=None, tol=0.0001)\n",
    "y_predict_qda = qda.predict(X_test)\n",
    "accuracy_score(y_test, y_predict_qda)'''"
   ]
  },
  {
   "cell_type": "code",
   "execution_count": null,
   "metadata": {
    "collapsed": true
   },
   "outputs": [],
   "source": [
    "#y_predict_rf, y_predict_nb\n",
    "#s2 =pd.Series(y_test)\n",
    "'''\n",
    "df_v = pd.concat([s1, pd.Series(predictions_xgfb_cv), pd.Series(y_predict_rf), pd.Series(y_predict_knn), pd.Series(predict_svc), pd.Series(y_pred_XGB), pd.Series(y_pred_ADA)  ], axis = 1)\n",
    "vote = df_v.apply(lambda x : collections.Counter(x).most_common(1)[0][0], axis = 1)\n",
    "accuracy_score(y_test, vote)\n",
    "#len(s2), len(y_predict_dt), len(y_pred_ADA), len(y_predict_knn), len(predict_svc)\n",
    "s2 = s2.sort_index().reset_index(drop = True)\n",
    "'''"
   ]
  },
  {
   "cell_type": "markdown",
   "metadata": {},
   "source": [
    "# Test Data"
   ]
  },
  {
   "cell_type": "code",
   "execution_count": 149,
   "metadata": {
    "collapsed": true
   },
   "outputs": [],
   "source": [
    "df_test = pd.read_csv(\"Train.csv\")"
   ]
  },
  {
   "cell_type": "code",
   "execution_count": 150,
   "metadata": {
    "collapsed": false
   },
   "outputs": [
    {
     "data": {
      "text/plain": [
       "(26000, 6)"
      ]
     },
     "execution_count": 150,
     "metadata": {},
     "output_type": "execute_result"
    }
   ],
   "source": [
    "df_test.shape"
   ]
  },
  {
   "cell_type": "code",
   "execution_count": null,
   "metadata": {
    "collapsed": true
   },
   "outputs": [],
   "source": []
  },
  {
   "cell_type": "code",
   "execution_count": null,
   "metadata": {
    "collapsed": true
   },
   "outputs": [],
   "source": []
  }
 ],
 "metadata": {
  "kernelspec": {
   "display_name": "Python 3",
   "language": "python",
   "name": "python3"
  },
  "language_info": {
   "codemirror_mode": {
    "name": "ipython",
    "version": 3
   },
   "file_extension": ".py",
   "mimetype": "text/x-python",
   "name": "python",
   "nbconvert_exporter": "python",
   "pygments_lexer": "ipython3",
   "version": "3.4.3"
  }
 },
 "nbformat": 4,
 "nbformat_minor": 2
}
