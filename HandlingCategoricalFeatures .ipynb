{
 "cells": [
  {
   "cell_type": "code",
   "execution_count": 1,
   "metadata": {},
   "outputs": [],
   "source": [
    "#Importing necessary libraries\n",
    "\n",
    "import numpy as np\n",
    "import pandas as pd\n",
    "from sklearn.metrics import log_loss\n",
    "from sklearn.model_selection import train_test_split\n",
    "from sklearn import preprocessing\n",
    "from sklearn.ensemble import RandomForestRegressor\n",
    "from sklearn.linear_model import LinearRegression\n"
   ]
  },
  {
   "cell_type": "code",
   "execution_count": 2,
   "metadata": {},
   "outputs": [],
   "source": [
    "#Loading sample dataset (private dataset)\n",
    "\n",
    "train_file = \"train.csv\"\n",
    "train = pd.read_csv(train_file)"
   ]
  },
  {
   "cell_type": "code",
   "execution_count": 4,
   "metadata": {},
   "outputs": [],
   "source": [
    "#Selecting only categorical variables form the dataset\n",
    "#Target feature is continuous numerical variable\n",
    "\n",
    "features = [0, 6, 8, 9,  11, 12, 15, 16, 17, 18, 19, 20, 21, 22, 23, 24, 25, 30, 32]\n",
    "\n",
    "X = train.iloc[:,features]\n",
    "y = train.iloc[:,29]"
   ]
  },
  {
   "cell_type": "code",
   "execution_count": 5,
   "metadata": {},
   "outputs": [],
   "source": [
    "#Splitting the datset into test and train\n",
    "\n",
    "X_train, X_test, y_train, y_test = train_test_split(X, y, test_size=0.2, random_state=42)"
   ]
  },
  {
   "cell_type": "code",
   "execution_count": 6,
   "metadata": {},
   "outputs": [
    {
     "data": {
      "text/plain": [
       "((20000, 19), (5000, 19), (20000,), (5000,))"
      ]
     },
     "execution_count": 6,
     "metadata": {},
     "output_type": "execute_result"
    }
   ],
   "source": [
    "#Checking the dimension\n",
    "\n",
    "X_train.shape, X_test.shape, y_train.shape, y_test.shape"
   ]
  },
  {
   "cell_type": "code",
   "execution_count": null,
   "metadata": {},
   "outputs": [],
   "source": []
  },
  {
   "cell_type": "code",
   "execution_count": null,
   "metadata": {},
   "outputs": [],
   "source": [
    "#One Hot Encoding/ Dummification technique"
   ]
  },
  {
   "cell_type": "code",
   "execution_count": 9,
   "metadata": {},
   "outputs": [],
   "source": [
    "#Taking column names from X_test and X_train dataframes\n",
    "\n",
    "col_train = X_train.columns\n",
    "col_test = X_test.columns"
   ]
  },
  {
   "cell_type": "code",
   "execution_count": 10,
   "metadata": {},
   "outputs": [],
   "source": [
    "#Applying dummification and making sure test and train have the same dimension\n",
    "\n",
    "X_train = pd.get_dummies(X_train, columns=col_train)\n",
    "X_test = pd.get_dummies(X_test, columns=col_test)\n",
    "\n",
    "X_train, X_test = X_train.align(X_test, join='outer', axis=1) # maybe 'outer' is better"
   ]
  },
  {
   "cell_type": "code",
   "execution_count": 11,
   "metadata": {},
   "outputs": [
    {
     "data": {
      "text/plain": [
       "((20000, 26810), (5000, 26810))"
      ]
     },
     "execution_count": 11,
     "metadata": {},
     "output_type": "execute_result"
    }
   ],
   "source": [
    "#Checking the dimensions\n",
    "\n",
    "X_train.shape, X_test.shape"
   ]
  },
  {
   "cell_type": "code",
   "execution_count": 12,
   "metadata": {},
   "outputs": [],
   "source": [
    "#Replacing null values with 0\n",
    "\n",
    "X_train = X_train.fillna(0)\n",
    "X_test = X_test.fillna(0)"
   ]
  },
  {
   "cell_type": "code",
   "execution_count": 14,
   "metadata": {},
   "outputs": [
    {
     "name": "stdout",
     "output_type": "stream",
     "text": [
      "11.047576000000001\n",
      "0.08036932351224951\n"
     ]
    }
   ],
   "source": [
    "#Random Forest\n",
    "classifier = RandomForestRegressor()\n",
    "classifier.fit(X_train,y_train)\n",
    "\n",
    "y_pred = classifier.predict(X_test)\n",
    "\n",
    "from sklearn.metrics import mean_squared_error, mean_squared_log_error\n",
    "print(mean_squared_error(y_test, y_pred))\n",
    "\n",
    "print(mean_squared_log_error(y_test, y_pred))\n",
    "\n",
    "\n",
    "#Linear\n",
    "#classifier1 = LinearRegression()\n",
    "#classifier1.fit(X_train,y_train)\n",
    "\n",
    "#y_pred1 = classifier1.predict(X_test)\n",
    "\n",
    "#from sklearn.metrics import mean_squared_error, mean_squared_log_error\n",
    "#print(mean_squared_error(y_test, y_pred1))\n",
    "\n",
    "#print(mean_squared_log_error(y_test, y_pred1))"
   ]
  },
  {
   "cell_type": "code",
   "execution_count": null,
   "metadata": {},
   "outputs": [],
   "source": []
  },
  {
   "cell_type": "code",
   "execution_count": null,
   "metadata": {},
   "outputs": [],
   "source": []
  },
  {
   "cell_type": "code",
   "execution_count": 15,
   "metadata": {},
   "outputs": [],
   "source": [
    "#Using my Binary conversion techniques\n",
    "\n",
    "train_file = \"train.csv\"\n",
    "train = pd.read_csv(train_file)\n",
    "\n",
    "features = [0, 6, 8, 9,  11, 12, 15, 16, 17, 18, 19, 20, 21, 22, 23, 24, 25, 30, 32]\n",
    "\n",
    "X = train.iloc[:,features]\n",
    "y = train.iloc[:,29]"
   ]
  },
  {
   "cell_type": "code",
   "execution_count": 16,
   "metadata": {},
   "outputs": [],
   "source": [
    "#Saving column names\n",
    "\n",
    "col = X.columns"
   ]
  },
  {
   "cell_type": "code",
   "execution_count": 17,
   "metadata": {},
   "outputs": [],
   "source": [
    "#Initializing empty dataframes\n",
    "\n",
    "X1 = pd.DataFrame()\n",
    "X2 = pd.DataFrame()"
   ]
  },
  {
   "cell_type": "code",
   "execution_count": 18,
   "metadata": {},
   "outputs": [],
   "source": [
    "#Converting the categorical values to the binary numbers and then converting each digit of binary number to a seperate column\n",
    "\n",
    "for i in col:\n",
    "    max_len = len(bin(max(X[i])))\n",
    "    X1[i] = [str(bin(x).split('b')[1]).zfill(max_len) for x in X[i]]\n",
    "    df = X1[i].apply(list).apply(pd.Series).astype(int)\n",
    "    l = len(X1[i].apply(list).apply(pd.Series).astype(int).columns)\n",
    "    col_names = []\n",
    "    for j in range(0, l):\n",
    "        col_names.append(i + '_' + str(j))\n",
    "    for k in range(0, len(col_names)):\n",
    "        X2[col_names[k]] = df[k]"
   ]
  },
  {
   "cell_type": "code",
   "execution_count": 20,
   "metadata": {},
   "outputs": [],
   "source": [
    "#Creating test and train dataset\n",
    "\n",
    "X_train, X_test, y_train, y_test = train_test_split(X2, y, test_size=0.2, random_state=42)"
   ]
  },
  {
   "cell_type": "code",
   "execution_count": 21,
   "metadata": {},
   "outputs": [
    {
     "data": {
      "text/plain": [
       "((20000, 152), (5000, 152))"
      ]
     },
     "execution_count": 21,
     "metadata": {},
     "output_type": "execute_result"
    }
   ],
   "source": [
    "#Checking the dimension\n",
    "#As compared to one-hot encoding/dummification technique, it only crates 152 columns\n",
    "\n",
    "X_train.shape, X_test.shape"
   ]
  },
  {
   "cell_type": "code",
   "execution_count": 22,
   "metadata": {},
   "outputs": [
    {
     "name": "stdout",
     "output_type": "stream",
     "text": [
      "12.578610000000001\n",
      "0.09895864756770072\n"
     ]
    }
   ],
   "source": [
    "#Random Forest\n",
    "classifier = RandomForestRegressor()\n",
    "classifier.fit(X_train,y_train)\n",
    "\n",
    "y_pred = classifier.predict(X_test)\n",
    "\n",
    "from sklearn.metrics import mean_squared_error, mean_squared_log_error\n",
    "print(mean_squared_error(y_test, y_pred))\n",
    "\n",
    "print(mean_squared_log_error(y_test, y_pred))\n",
    "\n",
    "\n",
    "#Linear\n",
    "#classifier1 = LinearRegression()\n",
    "#classifier1.fit(X_train,y_train)\n",
    "\n",
    "#y_pred1 = classifier1.predict(X_test)\n",
    "\n",
    "#from sklearn.metrics import mean_squared_error, mean_squared_log_error\n",
    "#print(mean_squared_error(y_test, y_pred1))\n",
    "\n",
    "#print(mean_squared_log_error(y_test, y_pred1))"
   ]
  },
  {
   "cell_type": "code",
   "execution_count": null,
   "metadata": {},
   "outputs": [],
   "source": []
  }
 ],
 "metadata": {
  "kernelspec": {
   "display_name": "Python 3",
   "language": "python",
   "name": "python3"
  },
  "language_info": {
   "codemirror_mode": {
    "name": "ipython",
    "version": 3
   },
   "file_extension": ".py",
   "mimetype": "text/x-python",
   "name": "python",
   "nbconvert_exporter": "python",
   "pygments_lexer": "ipython3",
   "version": "3.6.5"
  }
 },
 "nbformat": 4,
 "nbformat_minor": 2
}
